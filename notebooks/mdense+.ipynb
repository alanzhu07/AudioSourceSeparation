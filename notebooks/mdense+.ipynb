{
 "cells": [
  {
   "cell_type": "code",
   "execution_count": 1,
   "metadata": {},
   "outputs": [],
   "source": [
    "import os\n",
    "# os.environ['MUSDB_PATH'] = '/home/ec2-user/proj/data/data/' # '/root/MUSDB18/MUSDB18-7' # <- change to local dataset path\n",
    "\n",
    "import sys\n",
    "sys.path.append(os.path.abspath('../'))"
   ]
  },
  {
   "cell_type": "code",
   "execution_count": 2,
   "metadata": {},
   "outputs": [],
   "source": [
    "import musdb\n",
    "\n",
    "mus_train = musdb.DB(subsets=\"train\", split='train')\n",
    "mus_valid = musdb.DB(subsets=\"train\", split='valid')"
   ]
  },
  {
   "cell_type": "code",
   "execution_count": 3,
   "metadata": {},
   "outputs": [
    {
     "data": {
      "text/plain": [
       "1"
      ]
     },
     "execution_count": 3,
     "metadata": {},
     "output_type": "execute_result"
    }
   ],
   "source": [
    "import torch\n",
    "import torch.nn as nn\n",
    "from torch.utils.data import DataLoader\n",
    "import numpy as np\n",
    "from torchmetrics.functional import signal_distortion_ratio\n",
    "from torchinfo import summary\n",
    "import musdb, museval\n",
    "import torch\n",
    "import transforms\n",
    "import utils\n",
    "# from mdensenet import MDenseNet\n",
    "# from mmdensenet import MMDenseNet\n",
    "from mdensenet_new import MDenseNet\n",
    "from datasets import SamplingTrackDataset, FullTrackDataset\n",
    "from tqdm.notebook import tqdm\n",
    "from augmentation import freq_mask\n",
    "\n",
    "torch.cuda.device_count()"
   ]
  },
  {
   "cell_type": "code",
   "execution_count": 4,
   "metadata": {},
   "outputs": [],
   "source": [
    "seed = 42\n",
    "\n",
    "torch.manual_seed(seed)\n",
    "rng = np.random.default_rng(seed)\n",
    "\n",
    "train_size, valid_size = 86, 14\n",
    "sample_length_seconds = 5\n",
    "sample_length_seconds_valid = 15\n",
    "batch_size = 4\n",
    "valid_batch_size = 8\n",
    "\n",
    "training_data = SamplingTrackDataset(mus_train.tracks[:train_size], seconds=sample_length_seconds, target='vocals', rng=rng)\n",
    "train_loader = DataLoader(training_data, batch_size=batch_size, shuffle=True)\n",
    "\n",
    "valid_data = FullTrackDataset(mus_valid.tracks[:valid_size], seconds=sample_length_seconds_valid, target='vocals')\n",
    "valid_loader = DataLoader(valid_data, batch_size=valid_batch_size)"
   ]
  },
  {
   "cell_type": "code",
   "execution_count": 37,
   "metadata": {},
   "outputs": [
    {
     "data": {
      "text/plain": [
       "torch.return_types.topk(\n",
       "values=tensor([5.7312, 5.2891, 5.2336, 5.1160, 4.8145], device='cuda:0'),\n",
       "indices=tensor([246, 219, 247, 218, 245], device='cuda:0'))"
      ]
     },
     "execution_count": 37,
     "metadata": {},
     "output_type": "execute_result"
    }
   ],
   "source": [
    "for mixture, target in train_loader:\n",
    "    mixture_masked = freq_mask(mixture, F=2049, num_masks=1)\n",
    "    break\n",
    "torch.topk(torch.abs(mixture_masked - mixture).mean(dim=(0,1,3)), 5)"
   ]
  },
  {
   "cell_type": "code",
   "execution_count": 5,
   "metadata": {},
   "outputs": [
    {
     "name": "stdout",
     "output_type": "stream",
     "text": [
      "bottleneck: in 4, growth 4\n"
     ]
    },
    {
     "data": {
      "text/plain": [
       "====================================================================================================\n",
       "Layer (type:depth-idx)                                                      Param #\n",
       "====================================================================================================\n",
       "MDenseNet                                                                   --\n",
       "├─MDenseNetBackbone: 1-1                                                    --\n",
       "│    └─Conv2d: 2-1                                                          608\n",
       "│    └─Encoder: 2-2                                                         --\n",
       "│    │    └─Sequential: 3-1                                                 18,596\n",
       "│    └─TransformerEncoderBottleneck: 2-3                                    --\n",
       "│    │    └─TransformerEncoder: 3-2                                         8,999,368\n",
       "│    └─Decoder: 2-4                                                         --\n",
       "│    │    └─Sequential: 3-3                                                 22,392\n",
       "├─ReLU: 1-2                                                                 --\n",
       "├─DenseBlock: 1-3                                                           --\n",
       "│    └─Sequential: 2-5                                                      --\n",
       "│    │    └─ConvBlock2d: 3-4                                                748\n",
       "│    │    └─ConvBlock2d: 3-5                                                156\n",
       "├─BatchNorm2d: 1-4                                                          8\n",
       "├─Conv2d: 1-5                                                               10\n",
       "====================================================================================================\n",
       "Total params: 9,041,886\n",
       "Trainable params: 9,041,886\n",
       "Non-trainable params: 0\n",
       "===================================================================================================="
      ]
     },
     "execution_count": 5,
     "metadata": {},
     "output_type": "execute_result"
    }
   ],
   "source": [
    "in_channels, num_features = 2, 32\n",
    "\n",
    "# growth_rate = [12,12,12,12,12,12,12]\n",
    "growth_rate = [10,10,4,4,10,10,10]\n",
    "kernel_size = 3\n",
    "\n",
    "dilated = [True] * len(growth_rate)\n",
    "norm = [True] * len(growth_rate)\n",
    "nonlinear = [True] * len(growth_rate)\n",
    "# depth = [4,4,4,4,4,4,4]\n",
    "depth = [3,3,3,3,3,3,3]\n",
    "\n",
    "growth_rate_final=4\n",
    "kernel_size_final=3\n",
    "depth_final=2\n",
    "dilated_final=True\n",
    "norm_final=True\n",
    "nonlinear_final=True\n",
    "\n",
    "model = MDenseNet(in_channels, num_features, growth_rate, kernel_size, dilated=dilated, norm=norm, nonlinear=nonlinear, depth=depth,\n",
    "    growth_rate_final=growth_rate_final, kernel_size_final=kernel_size_final, depth_final=depth_final,\n",
    "    dilated_final=dilated_final, norm_final=norm_final, nonlinear_final=nonlinear_final, max_bin=2049)\n",
    "model.cuda()\n",
    "\n",
    "loss_fn = nn.MSELoss()\n",
    "optimizer = torch.optim.Adam(model.parameters(), lr=1e-3)\n",
    "\n",
    "summary(model)"
   ]
  },
  {
   "cell_type": "code",
   "execution_count": 6,
   "metadata": {},
   "outputs": [],
   "source": [
    "def step(optimizer, train_loss, model, input, target):\n",
    "    optimizer.zero_grad()\n",
    "    # magnitude, phase = torch.abs(mixture), torch.angle(mixture)\n",
    "    # outputs = model(magnitude) * torch.exp(1j * phase)\n",
    "    outputs = model(torch.abs(input))\n",
    "\n",
    "    loss = loss_fn(outputs, torch.abs(target))\n",
    "    loss.backward()\n",
    "    optimizer.step()\n",
    "    \n",
    "    train_loss.append(loss.item())\n"
   ]
  },
  {
   "cell_type": "code",
   "execution_count": 7,
   "metadata": {},
   "outputs": [
    {
     "data": {
      "application/vnd.jupyter.widget-view+json": {
       "model_id": "e510823c784a4deb8650ffce2813fbfb",
       "version_major": 2,
       "version_minor": 0
      },
      "text/plain": [
       "  0%|          | 0/150 [00:00<?, ?it/s]"
      ]
     },
     "metadata": {},
     "output_type": "display_data"
    },
    {
     "name": "stdout",
     "output_type": "stream",
     "text": [
      "epoch 0: train loss 4.666712 valid loss 4.229324\n",
      "epoch 1: train loss 3.497684\n",
      "epoch 2: train loss 2.797215\n",
      "epoch 3: train loss 2.985451\n",
      "epoch 4: train loss 2.625457\n",
      "epoch 5: train loss 2.472915\n",
      "epoch 6: train loss 2.325415\n",
      "epoch 7: train loss 2.372628\n",
      "epoch 8: train loss 2.471596\n",
      "epoch 9: train loss 2.114240 valid loss 1.808303\n",
      "epoch 10: train loss 1.858748\n",
      "epoch 11: train loss 2.420006\n",
      "epoch 12: train loss 2.065112\n",
      "epoch 13: train loss 2.300248\n",
      "epoch 14: train loss 1.982308\n",
      "epoch 15: train loss 2.276081\n",
      "epoch 16: train loss 2.118836\n",
      "epoch 17: train loss 1.910037\n",
      "epoch 18: train loss 1.971305\n",
      "epoch 19: train loss 1.945681 valid loss 1.646547\n",
      "epoch 20: train loss 2.146928\n",
      "epoch 21: train loss 1.817999\n",
      "epoch 22: train loss 2.094080\n",
      "epoch 23: train loss 1.595205\n",
      "epoch 24: train loss 2.232314\n",
      "epoch 25: train loss 1.702324\n",
      "epoch 26: train loss 1.789199\n",
      "epoch 27: train loss 2.054403\n",
      "epoch 28: train loss 1.529830\n",
      "epoch 29: train loss 2.262513 valid loss 1.580969\n",
      "epoch 30: train loss 1.973693\n",
      "epoch 31: train loss 1.855849\n",
      "epoch 32: train loss 2.160846\n",
      "epoch 33: train loss 2.173866\n",
      "epoch 34: train loss 2.029954\n",
      "epoch 35: train loss 1.906104\n",
      "epoch 36: train loss 1.836742\n",
      "epoch 37: train loss 1.701307\n",
      "epoch 38: train loss 1.772955\n",
      "epoch 39: train loss 1.879045 valid loss 1.558010\n",
      "epoch 40: train loss 1.768062\n",
      "epoch 41: train loss 2.043175\n",
      "epoch 42: train loss 2.000393\n",
      "epoch 43: train loss 2.151888\n",
      "epoch 44: train loss 1.794518\n",
      "epoch 45: train loss 1.868007\n",
      "epoch 46: train loss 1.798207\n",
      "epoch 47: train loss 2.051284\n",
      "epoch 48: train loss 1.919316\n",
      "epoch 49: train loss 1.632028 valid loss 1.499910\n",
      "epoch 50: train loss 1.808592\n",
      "epoch 51: train loss 1.554300\n",
      "epoch 52: train loss 1.926912\n",
      "epoch 53: train loss 1.819870\n",
      "epoch 54: train loss 1.720739\n",
      "epoch 55: train loss 1.805934\n",
      "epoch 56: train loss 1.637908\n",
      "epoch 57: train loss 1.779219\n",
      "epoch 58: train loss 1.730507\n",
      "epoch 59: train loss 1.623245 valid loss 1.665282\n",
      "epoch 60: train loss 1.600348\n",
      "epoch 61: train loss 1.723670\n",
      "epoch 62: train loss 1.757815\n",
      "epoch 63: train loss 1.786811\n",
      "epoch 64: train loss 1.689564\n",
      "epoch 65: train loss 1.999520\n",
      "epoch 66: train loss 1.822344\n",
      "epoch 67: train loss 1.669762\n",
      "epoch 68: train loss 1.830583\n",
      "epoch 69: train loss 1.699821 valid loss 1.539455\n",
      "epoch 70: train loss 1.431279\n",
      "epoch 71: train loss 1.707492\n",
      "epoch 72: train loss 1.828413\n",
      "epoch 73: train loss 1.653728\n",
      "epoch 74: train loss 1.667967\n",
      "epoch 75: train loss 1.722826\n",
      "epoch 76: train loss 1.607139\n",
      "epoch 77: train loss 1.725211\n",
      "epoch 78: train loss 1.728351\n",
      "epoch 79: train loss 1.510367 valid loss 1.418284\n",
      "epoch 80: train loss 1.706453\n",
      "epoch 81: train loss 1.607974\n",
      "epoch 82: train loss 1.526163\n",
      "epoch 83: train loss 1.462030\n",
      "epoch 84: train loss 1.419194\n",
      "epoch 85: train loss 1.615602\n",
      "epoch 86: train loss 1.628352\n",
      "epoch 87: train loss 1.477989\n",
      "epoch 88: train loss 1.399061\n",
      "epoch 89: train loss 1.447132 valid loss 1.378250\n",
      "epoch 90: train loss 1.413389\n",
      "epoch 91: train loss 1.600555\n",
      "epoch 92: train loss 1.824373\n",
      "epoch 93: train loss 1.802770\n",
      "epoch 94: train loss 1.519160\n",
      "epoch 95: train loss 2.034349\n",
      "epoch 96: train loss 1.680227\n",
      "epoch 97: train loss 1.917335\n",
      "epoch 98: train loss 1.697223\n",
      "epoch 99: train loss 1.533092 valid loss 1.479390\n",
      "epoch 100: train loss 1.724635\n",
      "epoch 101: train loss 1.654672\n",
      "epoch 102: train loss 1.647417\n",
      "epoch 103: train loss 1.518248\n",
      "epoch 104: train loss 1.835997\n",
      "epoch 105: train loss 1.509237\n",
      "epoch 106: train loss 1.697213\n",
      "epoch 107: train loss 1.450537\n",
      "epoch 108: train loss 1.521601\n",
      "epoch 109: train loss 1.654984 valid loss 1.679232\n",
      "epoch 110: train loss 1.333479\n",
      "epoch 111: train loss 1.802189\n",
      "epoch 112: train loss 1.599144\n",
      "epoch 113: train loss 1.446140\n",
      "epoch 114: train loss 1.306107\n",
      "epoch 115: train loss 1.328212\n",
      "epoch 116: train loss 1.698844\n",
      "epoch 117: train loss 1.294791\n",
      "epoch 118: train loss 1.460427\n",
      "epoch 119: train loss 1.563230 valid loss 1.356803\n",
      "epoch 120: train loss 1.736861\n",
      "epoch 121: train loss 1.539092\n",
      "epoch 122: train loss 1.691195\n",
      "epoch 123: train loss 1.401773\n",
      "epoch 124: train loss 1.650227\n",
      "epoch 125: train loss 1.640369\n",
      "epoch 126: train loss 1.441457\n",
      "epoch 127: train loss 1.465982\n",
      "epoch 128: train loss 1.460930\n",
      "epoch 129: train loss 1.345560 valid loss 1.419123\n",
      "epoch 130: train loss 1.285410\n",
      "epoch 131: train loss 1.527209\n",
      "epoch 132: train loss 1.740208\n",
      "epoch 133: train loss 1.703831\n",
      "epoch 134: train loss 1.676002\n",
      "epoch 135: train loss 1.532760\n",
      "epoch 136: train loss 1.299320\n",
      "epoch 137: train loss 1.594365\n",
      "epoch 138: train loss 1.257024\n",
      "epoch 139: train loss 1.451693 valid loss 1.517695\n",
      "epoch 140: train loss 1.212883\n",
      "epoch 141: train loss 1.222795\n",
      "epoch 142: train loss 1.447158\n",
      "epoch 143: train loss 1.373756\n",
      "epoch 144: train loss 1.225329\n",
      "epoch 145: train loss 1.449203\n",
      "epoch 146: train loss 1.625582\n",
      "epoch 147: train loss 1.337934\n",
      "epoch 148: train loss 1.441239\n",
      "epoch 149: train loss 1.475733 valid loss 1.462013\n"
     ]
    }
   ],
   "source": [
    "epochs = 150\n",
    "train_losses, valid_losses = [], []\n",
    "\n",
    "for epoch in tqdm(range(epochs)):\n",
    "\n",
    "    model.train()\n",
    "    train_loss = []\n",
    "    for i, (mixture, target) in enumerate(train_loader):\n",
    "\n",
    "        step(optimizer, train_loss, model, mixture, target)\n",
    "    \n",
    "    train_loss = np.mean(train_loss)\n",
    "    train_losses.append(train_loss)\n",
    "\n",
    "    if epoch == 0 or (epoch + 1) % 10 == 0:\n",
    "        model.eval()\n",
    "        valid_loss = []\n",
    "        with torch.no_grad():\n",
    "            for i, (mixture, target) in enumerate(valid_loader):\n",
    "\n",
    "                outputs = model(torch.abs(mixture))\n",
    "\n",
    "                loss = loss_fn(outputs, torch.abs(target))\n",
    "                valid_loss.append(loss.item())\n",
    "\n",
    "        valid_loss = np.mean(valid_loss)\n",
    "        valid_losses.append(valid_loss)\n",
    "    \n",
    "    if epoch == 0 or (epoch + 1) % 10 == 0:\n",
    "        print(f'epoch {epoch}: train loss {train_loss:3f} valid loss {valid_loss:3f}')\n",
    "    else:\n",
    "        print(f'epoch {epoch}: train loss {train_loss:3f}')\n",
    "\n",
    "    if (epoch + 1) % 20 == 0:\n",
    "        model_path = os.path.join('../../models/mdensenet_transformer', f'trained_model_epoch_{epoch+1}.pt')\n",
    "        torch.save(model.state_dict(), model_path)\n",
    "        "
   ]
  },
  {
   "cell_type": "code",
   "execution_count": 8,
   "metadata": {},
   "outputs": [
    {
     "name": "stdout",
     "output_type": "stream",
     "text": [
      "Done, model saved at ../../models/mdensenet_transformer/trained_model_epoch_150.pt\n"
     ]
    }
   ],
   "source": [
    "model_path = os.path.join('../../models/mdensenet_transformer', f'trained_model_epoch_{epochs}.pt')\n",
    "torch.save(model.cpu().state_dict(), model_path)\n",
    "torch.save(model.get_config(), os.path.join('../../models/mdensenet_transformer', f'model_config.pt'))\n",
    "print(f'Done, model saved at {model_path}')"
   ]
  },
  {
   "cell_type": "code",
   "execution_count": 9,
   "metadata": {},
   "outputs": [
    {
     "data": {
      "text/plain": [
       "<matplotlib.legend.Legend at 0x7f0430e79df0>"
      ]
     },
     "execution_count": 9,
     "metadata": {},
     "output_type": "execute_result"
    },
    {
     "data": {
      "image/png": "[encoded data removed]",
      "text/plain": [
       "<Figure size 640x480 with 1 Axes>"
      ]
     },
     "metadata": {},
     "output_type": "display_data"
    }
   ],
   "source": [
    "import matplotlib.pyplot as plt\n",
    "\n",
    "plt.plot(train_losses, label='Train')\n",
    "plt.plot([0,9,19,29,39,49,59,69,79,89,99,109,119,129,139,149], valid_losses, label='Validation')\n",
    "plt.xlabel('Epoch')\n",
    "plt.ylabel('Loss')\n",
    "plt.legend()"
   ]
  },
  {
   "cell_type": "code",
   "execution_count": 10,
   "metadata": {},
   "outputs": [
    {
     "data": {
      "application/vnd.jupyter.widget-view+json": {
       "model_id": "0ab424db3de4466e9c6b58d94d97c1de",
       "version_major": 2,
       "version_minor": 0
      },
      "text/plain": [
       "0it [00:00, ?it/s]"
      ]
     },
     "metadata": {},
     "output_type": "display_data"
    },
    {
     "name": "stdout",
     "output_type": "stream",
     "text": [
      "0 ANiMAL - Rockshow\n",
      "1.9408904119575547\n",
      "1 Actions - One Minute Smile\n",
      "3.0580286341109906\n",
      "2 Alexander Ross - Goodbye Bolero\n",
      "4.329240901423028\n",
      "3 Clara Berry And Wooldog - Waltz For My Victims\n",
      "2.2591084707330507\n",
      "4 Fergessen - Nos Palpitants\n",
      "9.55065381454696\n",
      "5 James May - On The Line\n",
      "6.681296627621737\n",
      "6 Johnny Lokke - Promises & Lies\n",
      "6.454057884347626\n",
      "7 Leaf - Summerghost\n",
      "4.349224876657231\n",
      "8 Meaxic - Take A Step\n",
      "3.9047331080101384\n",
      "9 Patrick Talbot - A Reason To Leave\n",
      "7.403390777265459\n",
      "10 Skelpolu - Human Mistakes\n",
      "0.1962024326372721\n",
      "11 Traffic Experiment - Sirens\n",
      "-0.009011748592463807\n",
      "12 Triviul - Angelsaint\n",
      "5.4185852269791415\n",
      "13 Young Griffo - Pennies\n",
      "5.501876626981296\n",
      "validation results\n",
      "mean: 4.359877003191358\n",
      "median: 4.3392328890401295\n",
      "std: 2.6321890057548805\n"
     ]
    }
   ],
   "source": [
    "model.cuda()\n",
    "model.eval()\n",
    "sdrs = []\n",
    "preds, targets = [], []\n",
    "with torch.no_grad():\n",
    "    for i, track in tqdm(enumerate(mus_valid.tracks)):\n",
    "        print(i, track)\n",
    "        mixture_track, target_track, pred_track = [], [], []\n",
    "        for (mixture_audio, target_audio) in utils.slice_musdb_track_iterator(track, 120., sample_targets='vocals'):\n",
    "            mixture = transforms.stft(torch.tensor(mixture_audio[None], dtype=torch.float))\n",
    "            output = model(torch.abs(mixture)) * torch.exp(1j * torch.angle(mixture))\n",
    "            pred_audio = transforms.istft(output, device='cpu')[0]\n",
    "            pred_track.append(pred_audio)\n",
    "            mixture_track.append(torch.tensor(mixture_audio[:,:pred_audio.size(-1)], device='cpu'))\n",
    "            target_track.append(torch.tensor(target_audio[:,:pred_audio.size(-1)], device='cpu'))\n",
    "\n",
    "        mixture_track = torch.cat(mixture_track, dim=1).numpy().T\n",
    "        target_track = torch.cat(target_track, dim=1).numpy().T\n",
    "        pred_track = torch.cat(pred_track, dim=1).numpy().T\n",
    "\n",
    "        sdr, _, _, _ = museval.metrics.bss_eval_sources([target_track], [pred_track], compute_permutation=False)\n",
    "        print(sdr[0][0])\n",
    "        sdrs.append(sdr)\n",
    "\n",
    "print(\"validation results\")\n",
    "print(\"mean:\", np.mean(sdrs))\n",
    "print(\"median:\", np.median(sdrs))\n",
    "print(\"std:\", np.std(sdrs))"
   ]
  },
  {
   "cell_type": "code",
   "execution_count": 11,
   "metadata": {},
   "outputs": [
    {
     "data": {
      "application/vnd.jupyter.widget-view+json": {
       "model_id": "9a74080ccd654486989f6824fc38f7f2",
       "version_major": 2,
       "version_minor": 0
      },
      "text/plain": [
       "  0%|          | 0/50 [00:00<?, ?it/s]"
      ]
     },
     "metadata": {},
     "output_type": "display_data"
    },
    {
     "name": "stdout",
     "output_type": "stream",
     "text": [
      "0 AM Contra - Heart Peripheral\n",
      "5.887631822528272\n",
      "1 Al James - Schoolboy Facination\n",
      "2.8780705152976838\n",
      "2 Angels In Amplifiers - I'm Alright\n",
      "5.1823828315268194\n",
      "3 Arise - Run Run Run\n",
      "2.7859120583107044\n",
      "4 BKS - Bulldozer\n",
      "2.24758133556888\n",
      "5 BKS - Too Much\n",
      "7.100794064841692\n",
      "6 Ben Carrigan - We'll Talk About It All Tonight\n",
      "1.8443920945355854\n",
      "7 Bobby Nobody - Stitch Up\n",
      "3.779836831652801\n",
      "8 Buitraker - Revo X\n",
      "-0.8138858498682848\n",
      "9 Carlos Gonzalez - A Place For Us\n",
      "3.0790828123425236\n",
      "10 Cristina Vane - So Easy\n",
      "5.019442179361413\n",
      "11 Detsky Sad - Walkie Talkie\n",
      "2.253826073090014\n",
      "12 Enda Reilly - Cur An Long Ag Seol\n",
      "6.13384794267945\n",
      "13 Forkupines - Semantics\n",
      "1.926309862112972\n",
      "14 Georgia Wonder - Siren\n",
      "0.912910276722163\n",
      "15 Girls Under Glass - We Feel Alright\n",
      "2.2627001917761453\n",
      "16 Hollow Ground - Ill Fate\n",
      "2.835397126184815\n",
      "17 James Elder & Mark M Thompson - The English Actor\n",
      "4.448973875245844\n",
      "18 Juliet's Rescue - Heartbeats\n",
      "4.365884801140117\n",
      "19 Little Chicago's Finest - My Own\n",
      "3.9115456624769163\n",
      "20 Louis Cressy Band - Good Time\n",
      "3.0139464817944073\n",
      "21 Lyndsey Ollard - Catching Up\n",
      "11.229364890156209\n",
      "22 M.E.R.C. Music - Knockout\n",
      "4.630953821835057\n",
      "23 Moosmusic - Big Dummy Shake\n",
      "7.299914520820759\n",
      "24 Motor Tapes - Shore\n",
      "4.527815279909293\n",
      "25 Mu - Too Bright\n",
      "4.247320016863341\n",
      "26 Nerve 9 - Pray For The Rain\n",
      "4.914840025503182\n",
      "27 PR - Happy Daze\n",
      "-15.752062953197898\n",
      "28 PR - Oh No\n",
      "-6.02766550834486\n",
      "29 Punkdisco - Oral Hygiene\n",
      "1.4889832144209474\n",
      "30 Raft Monk - Tiring\n",
      "1.0963113232843866\n",
      "31 Sambasevam Shanmugam - Kaathaadi\n",
      "7.60885504505627\n",
      "32 Secretariat - Borderline\n",
      "3.0893854041963347\n",
      "33 Secretariat - Over The Top\n",
      "4.412306826674786\n",
      "34 Side Effects Project - Sing With Me\n",
      "7.430298591994234\n",
      "35 Signe Jakobsen - What Have You Done To Me\n",
      "7.09674329083903\n",
      "36 Skelpolu - Resurrection\n",
      "-9.665097762592245\n",
      "37 Speak Softly - Broken Man\n",
      "2.5007630845834754\n",
      "38 Speak Softly - Like Horses\n",
      "4.48649261446411\n",
      "39 The Doppler Shift - Atrophy\n",
      "6.281041286336557\n",
      "40 The Easton Ellises (Baumi) - SDRNR\n",
      "4.594175534273289\n",
      "41 The Easton Ellises - Falcon 69\n",
      "2.3954680545213933\n",
      "42 The Long Wait - Dark Horses\n",
      "3.782514500084797\n",
      "43 The Mountaineering Club - Mallory\n",
      "7.102353702456003\n",
      "44 The Sunshine Garcia Band - For I Am The Moon\n",
      "7.989600483130236\n",
      "45 Timboz - Pony\n",
      "-0.13697217435271652\n",
      "46 Tom McKenzie - Directions\n",
      "5.8880073994099185\n",
      "47 Triviul feat. The Fiend - Widow\n",
      "5.329795550080907\n",
      "48 We Fell From The Sky - Not You\n",
      "0.727670313752648\n",
      "49 Zeno - Signs\n",
      "4.323392505448127\n",
      "test results\n",
      "mean: 3.27898303741857\n",
      "median: 4.079432839670129\n",
      "std: 4.273187985633431\n"
     ]
    },
    {
     "ename": "",
     "evalue": "",
     "output_type": "error",
     "traceback": [
      "\u001b[1;31mThe Kernel crashed while executing code in the the current cell or a previous cell. Please review the code in the cell(s) to identify a possible cause of the failure. Click <a href='https://aka.ms/vscodeJupyterKernelCrash'>here</a> for more info. View Jupyter <a href='command:jupyter.viewOutput'>log</a> for further details."
     ]
    }
   ],
   "source": [
    "mus_test = musdb.DB(subsets=\"test\")\n",
    "\n",
    "model.cuda()\n",
    "model.eval()\n",
    "sdrs = []\n",
    "preds, targets = [], []\n",
    "with torch.no_grad():\n",
    "    for i in tqdm(range(len(mus_test.tracks))):\n",
    "        track = mus_test.tracks[i]\n",
    "        print(i, track)\n",
    "        mixture_track, target_track, pred_track = [], [], []\n",
    "        for (mixture_audio, target_audio) in utils.slice_musdb_track_iterator(track, 120., sample_targets='vocals'):\n",
    "            mixture = transforms.stft(torch.tensor(mixture_audio[None], dtype=torch.float))\n",
    "            output = model(torch.abs(mixture)) * torch.exp(1j * torch.angle(mixture))\n",
    "            pred_audio = transforms.istft(output, device='cpu')[0]\n",
    "            pred_track.append(pred_audio)\n",
    "            mixture_track.append(torch.tensor(mixture_audio[:,:pred_audio.size(-1)], device='cpu'))\n",
    "            target_track.append(torch.tensor(target_audio[:,:pred_audio.size(-1)], device='cpu'))\n",
    "\n",
    "        mixture_track = torch.cat(mixture_track, dim=1).numpy().T\n",
    "        target_track = torch.cat(target_track, dim=1).numpy().T\n",
    "        pred_track = torch.cat(pred_track, dim=1).numpy().T\n",
    "\n",
    "        sdr, _, _, _ = museval.metrics.bss_eval_sources([target_track], [pred_track], compute_permutation=False)\n",
    "        print(sdr[0][0])\n",
    "        sdrs.append(sdr[0][0])\n",
    "\n",
    "print(\"test results\")\n",
    "print(\"mean:\", np.mean(sdrs))\n",
    "print(\"median:\", np.median(sdrs))\n",
    "print(\"std:\", np.std(sdrs))"
   ]
  },
  {
   "cell_type": "code",
   "execution_count": 7,
   "metadata": {},
   "outputs": [
    {
     "name": "stdout",
     "output_type": "stream",
     "text": [
      "torch.Size([1, 2, 2049, 506])\n",
      "torch.Size([1, 32, 2049, 506])\n",
      "torch.Size([1, 4, 257, 64])\n",
      "torch.Size([1, 4, 257, 64])\n"
     ]
    }
   ],
   "source": [
    "Kh, Kw = 3, 3\n",
    "Ph, Pw = Kh - 1, Kw - 1\n",
    "padding_top = Ph // 2\n",
    "padding_bottom = Ph - padding_top\n",
    "padding_left = Pw // 2\n",
    "padding_right = Pw - padding_left\n",
    "\n",
    "# for i, f in enumerate(['low', 'middle', 'high', 'full']):\n",
    "#     print(f)\n",
    "#     input = torch.rand(1,2,2049,506); print(input.shape)\n",
    "#     if f != 'full':\n",
    "#         input = model.bandsplit(input)[i]; \n",
    "#     input = nn.functional.pad(input, (padding_left, padding_right, padding_top, padding_bottom)); \n",
    "#     x = model.net[f].conv2d(input); print(x.shape)\n",
    "#     for net in model.net[f].encoder.net:\n",
    "#         x, skip = net(x); print(x.shape)\n",
    "#     x = model.net[f].bottleneck_conv2d(x); print(x.shape)\n",
    "#     # x = model.net[f].decoder(x, skip[::-1]); print(x.shape)\n",
    "\n",
    "input = torch.rand(1,2,2049,506); print(input.shape)\n",
    "input = nn.functional.pad(input, (padding_left, padding_right, padding_top, padding_bottom)); \n",
    "x = model.net.conv2d(input); print(x.shape)\n",
    "# for net in model.net.encoder.net:\n",
    "#     x, skip = net(x); print(x.shape)\n",
    "x, skip = model.net.encoder(x); print(x.shape)\n",
    "x = model.net.bottleneck(x); print(x.shape)"
   ]
  }
 ],
 "metadata": {
  "kernelspec": {
   "display_name": "Python 3.9.13 ('pytorch')",
   "language": "python",
   "name": "python3"
  },
  "language_info": {
   "codemirror_mode": {
    "name": "ipython",
    "version": 3
   },
   "file_extension": ".py",
   "mimetype": "text/x-python",
   "name": "python",
   "nbconvert_exporter": "python",
   "pygments_lexer": "ipython3",
   "version": "3.9.13"
  },
  "orig_nbformat": 4,
  "vscode": {
   "interpreter": {
    "hash": "2d58e898dde0263bc564c6968b04150abacfd33eed9b19aaa8e45c040360e146"
   }
  }
 },
 "nbformat": 4,
 "nbformat_minor": 2
}
