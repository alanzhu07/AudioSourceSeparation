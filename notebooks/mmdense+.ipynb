{
 "cells": [
  {
   "cell_type": "code",
   "execution_count": 1,
   "metadata": {},
   "outputs": [],
   "source": [
    "import os\n",
    "# os.environ['MUSDB_PATH'] = '/home/ec2-user/proj/data/data/' # '/root/MUSDB18/MUSDB18-7' # <- change to local dataset path\n",
    "\n",
    "import sys\n",
    "sys.path.append(os.path.abspath('../'))"
   ]
  },
  {
   "cell_type": "code",
   "execution_count": 2,
   "metadata": {},
   "outputs": [],
   "source": [
    "import musdb\n",
    "\n",
    "mus_train = musdb.DB(subsets=\"train\", split='train')\n",
    "mus_valid = musdb.DB(subsets=\"train\", split='valid')"
   ]
  },
  {
   "cell_type": "code",
   "execution_count": 3,
   "metadata": {},
   "outputs": [
    {
     "data": {
      "text/plain": [
       "1"
      ]
     },
     "execution_count": 3,
     "metadata": {},
     "output_type": "execute_result"
    }
   ],
   "source": [
    "import torch\n",
    "import torch.nn as nn\n",
    "from torch.utils.data import DataLoader\n",
    "import numpy as np\n",
    "from torchmetrics.functional import signal_distortion_ratio\n",
    "from torchinfo import summary\n",
    "import musdb, museval\n",
    "import torch\n",
    "import transforms\n",
    "import utils\n",
    "# from mdensenet import MDenseNet\n",
    "# from mmdensenet import MMDenseNet\n",
    "from mmdensenet_plus import MMDenseNetPlus\n",
    "from datasets import SamplingTrackDataset, FullTrackDataset\n",
    "from tqdm.notebook import tqdm\n",
    "from augmentation import freq_mask\n",
    "\n",
    "torch.cuda.device_count()"
   ]
  },
  {
   "cell_type": "code",
   "execution_count": 4,
   "metadata": {},
   "outputs": [],
   "source": [
    "seed = 42\n",
    "\n",
    "torch.manual_seed(seed)\n",
    "rng = np.random.default_rng(seed)\n",
    "\n",
    "train_size, valid_size = 86, 14\n",
    "sample_length_seconds = 5\n",
    "sample_length_seconds_valid = 15\n",
    "batch_size = 8\n",
    "valid_batch_size = 8\n",
    "\n",
    "training_data = SamplingTrackDataset(mus_train.tracks[:train_size], seconds=sample_length_seconds, target='bass', rng=rng)\n",
    "train_loader = DataLoader(training_data, batch_size=batch_size, shuffle=True)\n",
    "\n",
    "valid_data = FullTrackDataset(mus_valid.tracks[:valid_size], seconds=sample_length_seconds_valid, target='bass')\n",
    "valid_loader = DataLoader(valid_data, batch_size=valid_batch_size)"
   ]
  },
  {
   "cell_type": "code",
   "execution_count": 5,
   "metadata": {},
   "outputs": [
    {
     "name": "stdout",
     "output_type": "stream",
     "text": [
      "bottleneck: in 4, growth 4\n",
      "bottleneck: in 4, growth 4\n",
      "bottleneck: in 4, growth 4\n",
      "bottleneck: in 4, growth 4\n"
     ]
    },
    {
     "data": {
      "text/plain": [
       "=========================================================================================================\n",
       "Layer (type:depth-idx)                                                           Param #\n",
       "=========================================================================================================\n",
       "MMDenseNetPlus                                                                   --\n",
       "├─BandSplit: 1-1                                                                 --\n",
       "├─ModuleDict: 1-2                                                                --\n",
       "│    └─MDenseNetBackbone: 2-1                                                    --\n",
       "│    │    └─Conv2d: 3-1                                                          608\n",
       "│    │    └─Encoder: 3-2                                                         18,596\n",
       "│    │    └─TransformerEncoderBottleneck: 3-3                                    396,928\n",
       "│    │    └─Decoder: 3-4                                                         22,392\n",
       "│    └─MDenseNetBackbone: 2-2                                                    --\n",
       "│    │    └─Conv2d: 3-5                                                          608\n",
       "│    │    └─Encoder: 3-6                                                         18,596\n",
       "│    │    └─TransformerEncoderBottleneck: 3-7                                    1,011,784\n",
       "│    │    └─Decoder: 3-8                                                         22,392\n",
       "│    └─MDenseNetBackbone: 2-3                                                    --\n",
       "│    │    └─Conv2d: 3-9                                                          608\n",
       "│    │    └─Encoder: 3-10                                                        18,596\n",
       "│    │    └─TransformerEncoderBottleneck: 3-11                                   2,403,784\n",
       "│    │    └─Decoder: 3-12                                                        22,392\n",
       "│    └─MDenseNetBackbone: 2-4                                                    --\n",
       "│    │    └─Conv2d: 3-13                                                         608\n",
       "│    │    └─Encoder: 3-14                                                        18,596\n",
       "│    │    └─TransformerEncoderBottleneck: 3-15                                   8,999,368\n",
       "│    │    └─Decoder: 3-16                                                        22,392\n",
       "├─ReLU: 1-3                                                                      --\n",
       "├─DenseBlock: 1-4                                                                --\n",
       "│    └─Sequential: 2-5                                                           --\n",
       "│    │    └─ConvBlock2d: 3-17                                                    1,488\n",
       "│    │    └─ConvBlock2d: 3-18                                                    156\n",
       "├─BatchNorm2d: 1-5                                                               8\n",
       "├─Conv2d: 1-6                                                                    10\n",
       "=========================================================================================================\n",
       "Total params: 12,979,910\n",
       "Trainable params: 12,979,910\n",
       "Non-trainable params: 0\n",
       "========================================================================================================="
      ]
     },
     "execution_count": 5,
     "metadata": {},
     "output_type": "execute_result"
    }
   ],
   "source": [
    "in_channels, num_features = 2, 32\n",
    "\n",
    "# growth_rate = [12,12,12,12,12,12,12]\n",
    "growth_rate = [10,10,4,4,10,10,10]\n",
    "kernel_size = 3\n",
    "\n",
    "dilated = [True] * len(growth_rate)\n",
    "norm = [True] * len(growth_rate)\n",
    "nonlinear = [True] * len(growth_rate)\n",
    "# depth = [4,4,4,4,4,4,4]\n",
    "depth = [3,3,3,3,3,3,3]\n",
    "\n",
    "growth_rate_final=4\n",
    "kernel_size_final=3\n",
    "depth_final=2\n",
    "dilated_final=True\n",
    "norm_final=True\n",
    "nonlinear_final=True\n",
    "\n",
    "model = MMDenseNetPlus(in_channels, num_features, growth_rate, kernel_size, dilated=dilated, norm=norm, nonlinear=nonlinear, depth=depth,\n",
    "    growth_rate_final=growth_rate_final, kernel_size_final=kernel_size_final, depth_final=depth_final,\n",
    "    dilated_final=dilated_final, norm_final=norm_final, nonlinear_final=nonlinear_final, max_bin=2049)\n",
    "model.cuda()\n",
    "\n",
    "loss_fn = nn.MSELoss()\n",
    "optimizer = torch.optim.Adam(model.parameters(), lr=1e-3)\n",
    "\n",
    "summary(model)"
   ]
  },
  {
   "cell_type": "code",
   "execution_count": 6,
   "metadata": {},
   "outputs": [],
   "source": [
    "def step(optimizer, train_loss, model, input, target):\n",
    "    optimizer.zero_grad()\n",
    "    # magnitude, phase = torch.abs(mixture), torch.angle(mixture)\n",
    "    # outputs = model(magnitude) * torch.exp(1j * phase)\n",
    "    outputs = model(torch.abs(input))\n",
    "\n",
    "    loss = loss_fn(outputs, torch.abs(target))\n",
    "    loss.backward()\n",
    "    optimizer.step()\n",
    "    \n",
    "    train_loss.append(loss.item())\n"
   ]
  },
  {
   "cell_type": "code",
   "execution_count": 7,
   "metadata": {},
   "outputs": [
    {
     "data": {
      "application/vnd.jupyter.widget-view+json": {
       "model_id": "c27515a47dcb459c884a2b0dd44a5fc3",
       "version_major": 2,
       "version_minor": 0
      },
      "text/plain": [
       "  0%|          | 0/150 [00:00<?, ?it/s]"
      ]
     },
     "metadata": {},
     "output_type": "display_data"
    },
    {
     "name": "stdout",
     "output_type": "stream",
     "text": [
      "epoch 0: train loss 6.097429 valid loss 4.916066\n",
      "epoch 1: train loss 4.975372\n",
      "epoch 2: train loss 4.778364\n",
      "epoch 3: train loss 3.908626\n",
      "epoch 4: train loss 3.735686\n",
      "epoch 5: train loss 4.098425\n",
      "epoch 6: train loss 3.785549\n",
      "epoch 7: train loss 2.863923\n",
      "epoch 8: train loss 2.955213\n",
      "epoch 9: train loss 2.916298 valid loss 2.713303\n",
      "epoch 10: train loss 2.702515\n",
      "epoch 11: train loss 2.709564\n",
      "epoch 12: train loss 2.896679\n",
      "epoch 13: train loss 2.658048\n",
      "epoch 14: train loss 2.764607\n",
      "epoch 15: train loss 2.424505\n",
      "epoch 16: train loss 2.506681\n",
      "epoch 17: train loss 2.472142\n",
      "epoch 18: train loss 2.206964\n",
      "epoch 19: train loss 2.246257 valid loss 2.086146\n",
      "epoch 20: train loss 2.352646\n",
      "epoch 21: train loss 1.619477\n",
      "epoch 22: train loss 1.746869\n",
      "epoch 23: train loss 1.644944\n",
      "epoch 24: train loss 1.701489\n",
      "epoch 25: train loss 1.839208\n",
      "epoch 26: train loss 1.796084\n",
      "epoch 27: train loss 1.643405\n",
      "epoch 28: train loss 1.578324\n",
      "epoch 29: train loss 1.579654 valid loss 1.914610\n",
      "epoch 30: train loss 1.633164\n",
      "epoch 31: train loss 1.774104\n",
      "epoch 32: train loss 1.529460\n",
      "epoch 33: train loss 1.484879\n",
      "epoch 34: train loss 1.443011\n",
      "epoch 35: train loss 1.574234\n",
      "epoch 36: train loss 1.449341\n",
      "epoch 37: train loss 1.246846\n",
      "epoch 38: train loss 1.169422\n",
      "epoch 39: train loss 1.462678 valid loss 1.563915\n",
      "epoch 40: train loss 1.548284\n",
      "epoch 41: train loss 1.426593\n",
      "epoch 42: train loss 1.594718\n",
      "epoch 43: train loss 1.563135\n",
      "epoch 44: train loss 1.746261\n",
      "epoch 45: train loss 1.839182\n",
      "epoch 46: train loss 1.254841\n",
      "epoch 47: train loss 1.408278\n",
      "epoch 48: train loss 1.542488\n",
      "epoch 49: train loss 1.246614 valid loss 1.601854\n",
      "epoch 50: train loss 1.669349\n",
      "epoch 51: train loss 1.246791\n",
      "epoch 52: train loss 1.525499\n",
      "epoch 53: train loss 1.418972\n",
      "epoch 54: train loss 1.677083\n",
      "epoch 55: train loss 1.435179\n",
      "epoch 56: train loss 1.548530\n",
      "epoch 57: train loss 1.594714\n",
      "epoch 58: train loss 1.263122\n",
      "epoch 59: train loss 1.233698 valid loss 1.679240\n",
      "epoch 60: train loss 1.310850\n",
      "epoch 61: train loss 1.433810\n",
      "epoch 62: train loss 1.045108\n",
      "epoch 63: train loss 1.468640\n",
      "epoch 64: train loss 1.104857\n",
      "epoch 65: train loss 1.293400\n",
      "epoch 66: train loss 1.268646\n",
      "epoch 67: train loss 1.039588\n",
      "epoch 68: train loss 1.255581\n",
      "epoch 69: train loss 1.310073 valid loss 1.679622\n",
      "epoch 70: train loss 1.235127\n",
      "epoch 71: train loss 1.243229\n",
      "epoch 72: train loss 1.412148\n",
      "epoch 73: train loss 1.411071\n",
      "epoch 74: train loss 1.166673\n",
      "epoch 75: train loss 1.457331\n",
      "epoch 76: train loss 1.284079\n",
      "epoch 77: train loss 1.391146\n",
      "epoch 78: train loss 1.114194\n",
      "epoch 79: train loss 1.350974 valid loss 1.704090\n",
      "epoch 80: train loss 1.135259\n",
      "epoch 81: train loss 1.376317\n",
      "epoch 82: train loss 1.276692\n",
      "epoch 83: train loss 1.328965\n",
      "epoch 84: train loss 1.256316\n",
      "epoch 85: train loss 1.204988\n",
      "epoch 86: train loss 1.073384\n",
      "epoch 87: train loss 1.457090\n",
      "epoch 88: train loss 1.553691\n",
      "epoch 89: train loss 1.400778 valid loss 2.199911\n",
      "epoch 90: train loss 1.330483\n",
      "epoch 91: train loss 1.464558\n",
      "epoch 92: train loss 1.353951\n",
      "epoch 93: train loss 1.188779\n",
      "epoch 94: train loss 1.496860\n",
      "epoch 95: train loss 1.063994\n",
      "epoch 96: train loss 1.286128\n",
      "epoch 97: train loss 1.691460\n",
      "epoch 98: train loss 1.210946\n",
      "epoch 99: train loss 1.356709 valid loss 1.744568\n",
      "epoch 100: train loss 1.064786\n",
      "epoch 101: train loss 1.316580\n",
      "epoch 102: train loss 1.582922\n",
      "epoch 103: train loss 1.190712\n",
      "epoch 104: train loss 1.517362\n",
      "epoch 105: train loss 1.211706\n",
      "epoch 106: train loss 1.359863\n",
      "epoch 107: train loss 1.433602\n",
      "epoch 108: train loss 1.197998\n",
      "epoch 109: train loss 1.336582 valid loss 1.930465\n",
      "epoch 110: train loss 1.075689\n",
      "epoch 111: train loss 1.335551\n",
      "epoch 112: train loss 1.204986\n",
      "epoch 113: train loss 1.144502\n",
      "epoch 114: train loss 1.178766\n",
      "epoch 115: train loss 1.342854\n",
      "epoch 116: train loss 1.345650\n",
      "epoch 117: train loss 1.138404\n",
      "epoch 118: train loss 1.168105\n",
      "epoch 119: train loss 1.182020 valid loss 1.819673\n",
      "epoch 120: train loss 1.298546\n",
      "epoch 121: train loss 1.208986\n",
      "epoch 122: train loss 1.213841\n",
      "epoch 123: train loss 1.229634\n",
      "epoch 124: train loss 1.070868\n",
      "epoch 125: train loss 1.137099\n",
      "epoch 126: train loss 1.076299\n",
      "epoch 127: train loss 1.189808\n",
      "epoch 128: train loss 1.280266\n",
      "epoch 129: train loss 1.109899 valid loss 1.686714\n",
      "epoch 130: train loss 1.158307\n",
      "epoch 131: train loss 1.382181\n",
      "epoch 132: train loss 1.245936\n",
      "epoch 133: train loss 1.006252\n",
      "epoch 134: train loss 1.351160\n",
      "epoch 135: train loss 1.012184\n",
      "epoch 136: train loss 1.583124\n",
      "epoch 137: train loss 1.460169\n",
      "epoch 138: train loss 1.310907\n",
      "epoch 139: train loss 1.152940 valid loss 1.655648\n",
      "epoch 140: train loss 1.231620\n",
      "epoch 141: train loss 1.252251\n",
      "epoch 142: train loss 1.156240\n",
      "epoch 143: train loss 1.010397\n",
      "epoch 144: train loss 1.023971\n",
      "epoch 145: train loss 1.272734\n",
      "epoch 146: train loss 1.179199\n",
      "epoch 147: train loss 1.188479\n",
      "epoch 148: train loss 1.013631\n",
      "epoch 149: train loss 1.037979 valid loss 2.117753\n"
     ]
    }
   ],
   "source": [
    "epochs = 150\n",
    "train_losses, valid_losses = [], []\n",
    "\n",
    "for epoch in tqdm(range(epochs)):\n",
    "\n",
    "    model.train()\n",
    "    train_loss = []\n",
    "    for i, (mixture, target) in enumerate(train_loader):\n",
    "\n",
    "        step(optimizer, train_loss, model, mixture, target)\n",
    "    \n",
    "    train_loss = np.mean(train_loss)\n",
    "    train_losses.append(train_loss)\n",
    "\n",
    "    if epoch == 0 or (epoch + 1) % 10 == 0:\n",
    "        model.eval()\n",
    "        valid_loss = []\n",
    "        with torch.no_grad():\n",
    "            for i, (mixture, target) in enumerate(valid_loader):\n",
    "\n",
    "                outputs = model(torch.abs(mixture))\n",
    "\n",
    "                loss = loss_fn(outputs, torch.abs(target))\n",
    "                valid_loss.append(loss.item())\n",
    "\n",
    "        valid_loss = np.mean(valid_loss)\n",
    "        valid_losses.append(valid_loss)\n",
    "    \n",
    "    if epoch == 0 or (epoch + 1) % 10 == 0:\n",
    "        print(f'epoch {epoch}: train loss {train_loss:3f} valid loss {valid_loss:3f}')\n",
    "    else:\n",
    "        print(f'epoch {epoch}: train loss {train_loss:3f}')\n",
    "\n",
    "    if (epoch + 1) % 10 == 0:\n",
    "        model_path = os.path.join('../../models/mmdensenet_transformer_bass', f'trained_model_epoch_{epoch+1}.pt')\n",
    "        torch.save(model.state_dict(), model_path)\n",
    "        "
   ]
  },
  {
   "cell_type": "code",
   "execution_count": 8,
   "metadata": {},
   "outputs": [
    {
     "name": "stdout",
     "output_type": "stream",
     "text": [
      "Done, model saved at ../../models/mmdensenet_transformer_bass/trained_model_epoch_150.pt\n"
     ]
    }
   ],
   "source": [
    "model_path = os.path.join('../../models/mmdensenet_transformer_bass', f'trained_model_epoch_{epochs}.pt')\n",
    "torch.save(model.cpu().state_dict(), model_path)\n",
    "torch.save(model.get_config(), os.path.join('../../models/mmdensenet_transformer_bass', f'model_config.pt'))\n",
    "print(f'Done, model saved at {model_path}')"
   ]
  },
  {
   "cell_type": "code",
   "execution_count": 12,
   "metadata": {},
   "outputs": [
    {
     "name": "stdout",
     "output_type": "stream",
     "text": [
      "bottleneck: in 4, growth 4\n",
      "bottleneck: in 4, growth 4\n",
      "bottleneck: in 4, growth 4\n",
      "bottleneck: in 4, growth 4\n"
     ]
    },
    {
     "data": {
      "text/plain": [
       "<All keys matched successfully>"
      ]
     },
     "execution_count": 12,
     "metadata": {},
     "output_type": "execute_result"
    }
   ],
   "source": [
    "model = MMDenseNetPlus.build_model('../../models/mmdensenet_transformer_bass/model_config.pt')\n",
    "model.load_state_dict(torch.load('../../models/mmdensenet_transformer_bass/trained_model_epoch_140.pt'))"
   ]
  },
  {
   "cell_type": "code",
   "execution_count": 9,
   "metadata": {},
   "outputs": [
    {
     "data": {
      "text/plain": [
       "<matplotlib.legend.Legend at 0x7fcf9dcbcd00>"
      ]
     },
     "execution_count": 9,
     "metadata": {},
     "output_type": "execute_result"
    },
    {
     "data": {
      "image/png": "[encoded data removed]",
      "text/plain": [
       "<Figure size 640x480 with 1 Axes>"
      ]
     },
     "metadata": {},
     "output_type": "display_data"
    }
   ],
   "source": [
    "import matplotlib.pyplot as plt\n",
    "\n",
    "plt.plot(train_losses, label='Train')\n",
    "plt.plot([0,9,19,29,39,49,59,69,79,89,99,109,119,129,139,149], valid_losses, label='Validation')\n",
    "plt.xlabel('Epoch')\n",
    "plt.ylabel('Loss')\n",
    "plt.legend()"
   ]
  },
  {
   "cell_type": "code",
   "execution_count": 13,
   "metadata": {},
   "outputs": [
    {
     "data": {
      "application/vnd.jupyter.widget-view+json": {
       "model_id": "08e1322bb9e143fcbe88fed193131a64",
       "version_major": 2,
       "version_minor": 0
      },
      "text/plain": [
       "0it [00:00, ?it/s]"
      ]
     },
     "metadata": {},
     "output_type": "display_data"
    },
    {
     "name": "stdout",
     "output_type": "stream",
     "text": [
      "0 ANiMAL - Rockshow\n",
      "5.620451593677927\n",
      "1 Actions - One Minute Smile\n",
      "-1.7673192428315336\n",
      "2 Alexander Ross - Goodbye Bolero\n",
      "-2.362615010838804\n",
      "3 Clara Berry And Wooldog - Waltz For My Victims\n",
      "4.850361809228928\n",
      "4 Fergessen - Nos Palpitants\n",
      "-0.6909669084885529\n",
      "5 James May - On The Line\n",
      "-1.7377508324782256\n",
      "6 Johnny Lokke - Promises & Lies\n",
      "-1.005058532480931\n",
      "7 Leaf - Summerghost\n",
      "9.047830522786631\n",
      "8 Meaxic - Take A Step\n",
      "4.695089407049843\n",
      "9 Patrick Talbot - A Reason To Leave\n",
      "2.941886587013923\n",
      "10 Skelpolu - Human Mistakes\n",
      "5.202660940501484\n",
      "11 Traffic Experiment - Sirens\n",
      "-3.629905504660473\n",
      "12 Triviul - Angelsaint\n",
      "5.45951580602542\n",
      "13 Young Griffo - Pennies\n",
      "7.187211809927141\n",
      "validation results\n",
      "mean: 2.4150994603166267\n",
      "median: 3.818487997031883\n",
      "std: 3.9725698114654806\n"
     ]
    }
   ],
   "source": [
    "model.cuda()\n",
    "model.eval()\n",
    "sdrs = []\n",
    "preds, targets = [], []\n",
    "with torch.no_grad():\n",
    "    for i, track in tqdm(enumerate(mus_valid.tracks)):\n",
    "        print(i, track)\n",
    "        mixture_track, target_track, pred_track = [], [], []\n",
    "        for (mixture_audio, target_audio) in utils.slice_musdb_track_iterator(track, 120., sample_targets='bass'):\n",
    "            mixture = transforms.stft(torch.tensor(mixture_audio[None], dtype=torch.float))\n",
    "            output = model(torch.abs(mixture)) * torch.exp(1j * torch.angle(mixture))\n",
    "            pred_audio = transforms.istft(output, device='cpu')[0]\n",
    "            pred_track.append(pred_audio)\n",
    "            mixture_track.append(torch.tensor(mixture_audio[:,:pred_audio.size(-1)], device='cpu'))\n",
    "            target_track.append(torch.tensor(target_audio[:,:pred_audio.size(-1)], device='cpu'))\n",
    "\n",
    "        mixture_track = torch.cat(mixture_track, dim=1).numpy().T\n",
    "        target_track = torch.cat(target_track, dim=1).numpy().T\n",
    "        pred_track = torch.cat(pred_track, dim=1).numpy().T\n",
    "\n",
    "        sdr, _, _, _ = museval.metrics.bss_eval_sources([target_track], [pred_track], compute_permutation=False)\n",
    "        print(sdr[0][0])\n",
    "        sdrs.append(sdr)\n",
    "\n",
    "print(\"validation results\")\n",
    "print(\"mean:\", np.mean(sdrs))\n",
    "print(\"median:\", np.median(sdrs))\n",
    "print(\"std:\", np.std(sdrs))"
   ]
  },
  {
   "cell_type": "code",
   "execution_count": 14,
   "metadata": {},
   "outputs": [
    {
     "data": {
      "application/vnd.jupyter.widget-view+json": {
       "model_id": "164425d115794aaeb70fc46188e85e06",
       "version_major": 2,
       "version_minor": 0
      },
      "text/plain": [
       "  0%|          | 0/50 [00:00<?, ?it/s]"
      ]
     },
     "metadata": {},
     "output_type": "display_data"
    },
    {
     "name": "stdout",
     "output_type": "stream",
     "text": [
      "0 AM Contra - Heart Peripheral\n",
      "-3.9291303041771326\n",
      "1 Al James - Schoolboy Facination\n",
      "4.913568351734893\n",
      "2 Angels In Amplifiers - I'm Alright\n",
      "2.467920430738551\n",
      "3 Arise - Run Run Run\n",
      "3.121433770099343\n",
      "4 BKS - Bulldozer\n",
      "3.278042392053026\n",
      "5 BKS - Too Much\n",
      "6.106773144805881\n",
      "6 Ben Carrigan - We'll Talk About It All Tonight\n",
      "4.0485748229465806\n",
      "7 Bobby Nobody - Stitch Up\n",
      "2.8843738927234113\n",
      "8 Buitraker - Revo X\n",
      "2.8403783422894286\n",
      "9 Carlos Gonzalez - A Place For Us\n",
      "-3.3453241643320952\n",
      "10 Cristina Vane - So Easy\n",
      "0.39248916864506567\n",
      "11 Detsky Sad - Walkie Talkie\n",
      "-4.340211290063138\n",
      "12 Enda Reilly - Cur An Long Ag Seol\n",
      "1.1159973265962884\n",
      "13 Forkupines - Semantics\n",
      "1.0414947975806872\n",
      "14 Georgia Wonder - Siren\n",
      "5.034672333860547\n",
      "15 Girls Under Glass - We Feel Alright\n",
      "0.5249055060581929\n",
      "16 Hollow Ground - Ill Fate\n",
      "-4.49312238117432\n",
      "17 James Elder & Mark M Thompson - The English Actor\n",
      "2.513633074496683\n",
      "18 Juliet's Rescue - Heartbeats\n",
      "-1.4329255480145293\n",
      "19 Little Chicago's Finest - My Own\n",
      "2.5676908460628614\n",
      "20 Louis Cressy Band - Good Time\n",
      "2.3458060249770902\n",
      "21 Lyndsey Ollard - Catching Up\n",
      "4.46168997600282\n",
      "22 M.E.R.C. Music - Knockout\n",
      "0.44116100199929487\n",
      "23 Moosmusic - Big Dummy Shake\n",
      "0.7237062676162156\n",
      "24 Motor Tapes - Shore\n",
      "4.702911289104773\n",
      "25 Mu - Too Bright\n",
      "-0.4732798366904504\n",
      "26 Nerve 9 - Pray For The Rain\n",
      "3.123437894187978\n",
      "27 PR - Happy Daze\n",
      "3.189142430201306\n",
      "28 PR - Oh No\n",
      "1.6888319813327959\n",
      "29 Punkdisco - Oral Hygiene\n",
      "5.905915291071341\n",
      "30 Raft Monk - Tiring\n",
      "2.9135517664668154\n",
      "31 Sambasevam Shanmugam - Kaathaadi\n",
      "7.785598651316424\n",
      "32 Secretariat - Borderline\n",
      "0.3848715830945244\n",
      "33 Secretariat - Over The Top\n",
      "7.706064781197222\n",
      "34 Side Effects Project - Sing With Me\n",
      "1.34237351016707\n",
      "35 Signe Jakobsen - What Have You Done To Me\n",
      "-1.0845424640209242\n",
      "36 Skelpolu - Resurrection\n",
      "9.637765423941687\n",
      "37 Speak Softly - Broken Man\n",
      "8.652234035996603\n",
      "38 Speak Softly - Like Horses\n",
      "13.487909839263192\n",
      "39 The Doppler Shift - Atrophy\n",
      "-4.483722031186428\n",
      "40 The Easton Ellises (Baumi) - SDRNR\n",
      "3.6729489009202987\n",
      "41 The Easton Ellises - Falcon 69\n",
      "4.456238208006348\n",
      "42 The Long Wait - Dark Horses\n",
      "2.624320736254914\n",
      "43 The Mountaineering Club - Mallory\n",
      "5.752899920309793\n",
      "44 The Sunshine Garcia Band - For I Am The Moon\n",
      "-2.3175265454503977\n",
      "45 Timboz - Pony\n",
      "-5.4160289168490205\n",
      "46 Tom McKenzie - Directions\n",
      "-0.5780462461019327\n",
      "47 Triviul feat. The Fiend - Widow\n",
      "10.215098198761607\n",
      "48 We Fell From The Sky - Not You\n",
      "-4.696997200556171\n",
      "49 Zeno - Signs\n",
      "-2.2324247114629743\n",
      "test results\n",
      "mean: 2.1848628854560412\n",
      "median: 2.540661960279772\n",
      "std: 4.094191535431259\n"
     ]
    }
   ],
   "source": [
    "mus_test = musdb.DB(subsets=\"test\")\n",
    "\n",
    "model.cuda()\n",
    "model.eval()\n",
    "sdrs = []\n",
    "preds, targets = [], []\n",
    "with torch.no_grad():\n",
    "    for i in tqdm(range(len(mus_test.tracks))):\n",
    "        track = mus_test.tracks[i]\n",
    "        print(i, track)\n",
    "        mixture_track, target_track, pred_track = [], [], []\n",
    "        for (mixture_audio, target_audio) in utils.slice_musdb_track_iterator(track, 180., sample_targets='bass'):\n",
    "            mixture = transforms.stft(torch.tensor(mixture_audio[None], dtype=torch.float))\n",
    "            output = model(torch.abs(mixture)) * torch.exp(1j * torch.angle(mixture))\n",
    "            pred_audio = transforms.istft(output, device='cpu')[0]\n",
    "            pred_track.append(pred_audio)\n",
    "            mixture_track.append(torch.tensor(mixture_audio[:,:pred_audio.size(-1)], device='cpu'))\n",
    "            target_track.append(torch.tensor(target_audio[:,:pred_audio.size(-1)], device='cpu'))\n",
    "\n",
    "        mixture_track = torch.cat(mixture_track, dim=1).numpy().T\n",
    "        target_track = torch.cat(target_track, dim=1).numpy().T\n",
    "        pred_track = torch.cat(pred_track, dim=1).numpy().T\n",
    "\n",
    "        sdr, _, _, _ = museval.metrics.bss_eval_sources([target_track], [pred_track], compute_permutation=False)\n",
    "        print(sdr[0][0])\n",
    "        sdrs.append(sdr[0][0])\n",
    "\n",
    "print(\"test results\")\n",
    "print(\"mean:\", np.mean(sdrs))\n",
    "print(\"median:\", np.median(sdrs))\n",
    "print(\"std:\", np.std(sdrs))"
   ]
  },
  {
   "cell_type": "code",
   "execution_count": 7,
   "metadata": {},
   "outputs": [
    {
     "name": "stdout",
     "output_type": "stream",
     "text": [
      "torch.Size([1, 2, 2049, 506])\n",
      "torch.Size([1, 32, 2049, 506])\n",
      "torch.Size([1, 4, 257, 64])\n",
      "torch.Size([1, 4, 257, 64])\n"
     ]
    }
   ],
   "source": [
    "Kh, Kw = 3, 3\n",
    "Ph, Pw = Kh - 1, Kw - 1\n",
    "padding_top = Ph // 2\n",
    "padding_bottom = Ph - padding_top\n",
    "padding_left = Pw // 2\n",
    "padding_right = Pw - padding_left\n",
    "\n",
    "# for i, f in enumerate(['low', 'middle', 'high', 'full']):\n",
    "#     print(f)\n",
    "#     input = torch.rand(1,2,2049,506); print(input.shape)\n",
    "#     if f != 'full':\n",
    "#         input = model.bandsplit(input)[i]; \n",
    "#     input = nn.functional.pad(input, (padding_left, padding_right, padding_top, padding_bottom)); \n",
    "#     x = model.net[f].conv2d(input); print(x.shape)\n",
    "#     for net in model.net[f].encoder.net:\n",
    "#         x, skip = net(x); print(x.shape)\n",
    "#     x = model.net[f].bottleneck_conv2d(x); print(x.shape)\n",
    "#     # x = model.net[f].decoder(x, skip[::-1]); print(x.shape)\n",
    "\n",
    "input = torch.rand(1,2,2049,506); print(input.shape)\n",
    "input = nn.functional.pad(input, (padding_left, padding_right, padding_top, padding_bottom)); \n",
    "x = model.net.conv2d(input); print(x.shape)\n",
    "# for net in model.net.encoder.net:\n",
    "#     x, skip = net(x); print(x.shape)\n",
    "x, skip = model.net.encoder(x); print(x.shape)\n",
    "x = model.net.bottleneck(x); print(x.shape)"
   ]
  }
 ],
 "metadata": {
  "kernelspec": {
   "display_name": "Python 3.9.13 ('pytorch')",
   "language": "python",
   "name": "python3"
  },
  "language_info": {
   "codemirror_mode": {
    "name": "ipython",
    "version": 3
   },
   "file_extension": ".py",
   "mimetype": "text/x-python",
   "name": "python",
   "nbconvert_exporter": "python",
   "pygments_lexer": "ipython3",
   "version": "3.9.13"
  },
  "orig_nbformat": 4,
  "vscode": {
   "interpreter": {
    "hash": "2d58e898dde0263bc564c6968b04150abacfd33eed9b19aaa8e45c040360e146"
   }
  }
 },
 "nbformat": 4,
 "nbformat_minor": 2
}
