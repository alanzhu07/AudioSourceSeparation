{
  "cells": [
    {
      "cell_type": "code",
      "execution_count": 1,
      "metadata": {
        "colab": {
          "base_uri": "https://localhost:8080/"
        },
        "id": "hPSDBrpC1lV5",
        "outputId": "ebd55b96-c3e0-4302-d05e-c3aba4f245d0"
      },
      "outputs": [],
      "source": [
        "import os\n",
        "# os.environ['MUSDB_PATH'] = '/root/MUSDB18/MUSDB18-7' # <- change to local dataset path\n",
        "\n",
        "import sys\n",
        "sys.path.append(os.path.abspath('../'))"
      ]
    },
    {
      "cell_type": "code",
      "execution_count": 2,
      "metadata": {
        "id": "LSrDq4Kv1xKp"
      },
      "outputs": [],
      "source": [
        "import musdb\n",
        "\n",
        "mus_train = musdb.DB(subsets=\"train\", split='train')\n",
        "mus_valid = musdb.DB(subsets=\"train\", split='valid')"
      ]
    },
    {
      "cell_type": "code",
      "execution_count": 3,
      "metadata": {
        "id": "utDESFyT19xd"
      },
      "outputs": [
        {
          "data": {
            "text/plain": [
              "1"
            ]
          },
          "execution_count": 3,
          "metadata": {},
          "output_type": "execute_result"
        }
      ],
      "source": [
        "import torch\n",
        "import torch.nn as nn\n",
        "from torch.utils.data import DataLoader\n",
        "import numpy as np\n",
        "from torchmetrics.functional import signal_distortion_ratio\n",
        "from torchinfo import summary\n",
        "import musdb, museval\n",
        "import torch\n",
        "import transforms\n",
        "import utils\n",
        "from mmdensenet import MMDenseNet\n",
        "from datasets import STFTDataset, SamplingTrackDataset, FullTrackDataset\n",
        "from tqdm.notebook import tqdm\n",
        "\n",
        "torch.cuda.device_count()"
      ]
    },
    {
      "cell_type": "code",
      "execution_count": 4,
      "metadata": {},
      "outputs": [],
      "source": [
        "seed = 42\n",
        "\n",
        "torch.manual_seed(seed)\n",
        "rng = np.random.default_rng(seed)\n",
        "\n",
        "train_size, valid_size = 86, 14\n",
        "sample_length_seconds = 5\n",
        "sample_length_seconds_valid = 15\n",
        "batch_size = 8\n",
        "valid_batch_size = 8\n",
        "\n",
        "training_data = SamplingTrackDataset(mus_train.tracks[:train_size], seconds=sample_length_seconds, target='vocals', rng=rng)\n",
        "train_loader = DataLoader(training_data, batch_size=batch_size, shuffle=True)\n",
        "\n",
        "valid_data = FullTrackDataset(mus_valid.tracks[:valid_size], seconds=sample_length_seconds_valid, target='vocals')\n",
        "valid_loader = DataLoader(valid_data, batch_size=valid_batch_size)"
      ]
    },
    {
      "cell_type": "code",
      "execution_count": 5,
      "metadata": {
        "colab": {
          "base_uri": "https://localhost:8080/"
        },
        "id": "3sIXvMh5-2Un",
        "outputId": "9c89598a-9563-413b-bedb-dec0807c1bbc"
      },
      "outputs": [
        {
          "data": {
            "text/plain": [
              "==========================================================================================\n",
              "Layer (type:depth-idx)                                            Param #\n",
              "==========================================================================================\n",
              "MMDenseNet                                                        --\n",
              "├─BandSplit: 1-1                                                  --\n",
              "├─ModuleDict: 1-2                                                 --\n",
              "│    └─MDenseNetBackbone: 2-1                                     --\n",
              "│    │    └─Conv2d: 3-1                                           608\n",
              "│    │    └─Encoder: 3-2                                          22,544\n",
              "│    │    └─DenseBlock: 3-3                                       5,520\n",
              "│    │    └─Decoder: 3-4                                          26,010\n",
              "│    └─MDenseNetBackbone: 2-2                                     --\n",
              "│    │    └─Conv2d: 3-5                                           608\n",
              "│    │    └─Encoder: 3-6                                          22,544\n",
              "│    │    └─DenseBlock: 3-7                                       5,520\n",
              "│    │    └─Decoder: 3-8                                          26,010\n",
              "│    └─MDenseNetBackbone: 2-3                                     --\n",
              "│    │    └─Conv2d: 3-9                                           608\n",
              "│    │    └─Encoder: 3-10                                         22,544\n",
              "│    │    └─DenseBlock: 3-11                                      5,520\n",
              "│    │    └─Decoder: 3-12                                         26,010\n",
              "│    └─MDenseNetBackbone: 2-4                                     --\n",
              "│    │    └─Conv2d: 3-13                                          608\n",
              "│    │    └─Encoder: 3-14                                         22,544\n",
              "│    │    └─DenseBlock: 3-15                                      5,520\n",
              "│    │    └─Decoder: 3-16                                         26,010\n",
              "├─ReLU: 1-3                                                       --\n",
              "├─DenseBlock: 1-4                                                 --\n",
              "│    └─Sequential: 2-5                                            --\n",
              "│    │    └─ConvBlock2d: 3-17                                     1,488\n",
              "│    │    └─ConvBlock2d: 3-18                                     156\n",
              "├─BatchNorm2d: 1-5                                                8\n",
              "├─Conv2d: 1-6                                                     10\n",
              "==========================================================================================\n",
              "Total params: 220,390\n",
              "Trainable params: 220,390\n",
              "Non-trainable params: 0\n",
              "=========================================================================================="
            ]
          },
          "execution_count": 5,
          "metadata": {},
          "output_type": "execute_result"
        }
      ],
      "source": [
        "in_channels, num_features = 2, 32\n",
        "\n",
        "# growth_rate = [12,12,12,12,12,12,12]\n",
        "growth_rate = [10,10,10,10,10,10,10]\n",
        "kernel_size = 3\n",
        "\n",
        "dilated = [True] * len(growth_rate)\n",
        "norm = [True] * len(growth_rate)\n",
        "nonlinear = [True] * len(growth_rate)\n",
        "# depth = [4,4,4,4,4,4,4]\n",
        "depth = [3,3,3,3,3,3,3]\n",
        "\n",
        "growth_rate_final=4\n",
        "kernel_size_final=3\n",
        "depth_final=2\n",
        "dilated_final=True\n",
        "norm_final=True\n",
        "nonlinear_final=True\n",
        "\n",
        "model = MMDenseNet(in_channels, num_features, growth_rate, kernel_size, dilated=dilated, norm=norm, nonlinear=nonlinear, depth=depth,\n",
        "    growth_rate_final=growth_rate_final, kernel_size_final=kernel_size_final, depth_final=depth_final,\n",
        "    dilated_final=dilated_final, norm_final=norm_final, nonlinear_final=nonlinear_final)\n",
        "model.cuda()\n",
        "\n",
        "loss_fn = nn.MSELoss()\n",
        "optimizer = torch.optim.Adam(model.parameters(), lr=1e-3)\n",
        "\n",
        "summary(model)\n"
      ]
    },
    {
      "cell_type": "code",
      "execution_count": 6,
      "metadata": {
        "colab": {
          "base_uri": "https://localhost:8080/"
        },
        "id": "b_1wn_ZH2yUd",
        "outputId": "9f77d1d6-fd1b-4346-bb36-b0c438b8665c"
      },
      "outputs": [
        {
          "data": {
            "application/vnd.jupyter.widget-view+json": {
              "model_id": "f220d761307e4e6f8811e23c7269eca8",
              "version_major": 2,
              "version_minor": 0
            },
            "text/plain": [
              "  0%|          | 0/150 [00:00<?, ?it/s]"
            ]
          },
          "metadata": {},
          "output_type": "display_data"
        },
        {
          "name": "stdout",
          "output_type": "stream",
          "text": [
            "epoch 0: train loss 4.952699 valid loss 4.547267\n",
            "epoch 1: train loss 3.663147\n",
            "epoch 2: train loss 3.258722\n",
            "epoch 3: train loss 2.787051\n",
            "epoch 4: train loss 2.864985\n",
            "epoch 5: train loss 2.778631\n",
            "epoch 6: train loss 2.916975\n",
            "epoch 7: train loss 2.464793\n",
            "epoch 8: train loss 2.060636\n",
            "epoch 9: train loss 2.380677 valid loss 1.815707\n",
            "epoch 10: train loss 2.174084\n",
            "epoch 11: train loss 2.371435\n",
            "epoch 12: train loss 2.286122\n",
            "epoch 13: train loss 2.014711\n",
            "epoch 14: train loss 1.799442\n",
            "epoch 15: train loss 1.801791\n",
            "epoch 16: train loss 1.596562\n",
            "epoch 17: train loss 2.077270\n",
            "epoch 18: train loss 1.861107\n",
            "epoch 19: train loss 2.022038 valid loss 1.863854\n",
            "epoch 20: train loss 1.996609\n",
            "epoch 21: train loss 1.667262\n",
            "epoch 22: train loss 2.000915\n",
            "epoch 23: train loss 1.826760\n",
            "epoch 24: train loss 1.993319\n",
            "epoch 25: train loss 1.665585\n",
            "epoch 26: train loss 1.530066\n",
            "epoch 27: train loss 1.437277\n",
            "epoch 28: train loss 1.422860\n",
            "epoch 29: train loss 1.956025 valid loss 1.661258\n",
            "epoch 30: train loss 1.750272\n",
            "epoch 31: train loss 1.638003\n",
            "epoch 32: train loss 1.641847\n",
            "epoch 33: train loss 1.697366\n",
            "epoch 34: train loss 1.861036\n",
            "epoch 35: train loss 1.826029\n",
            "epoch 36: train loss 1.705427\n",
            "epoch 37: train loss 1.709365\n",
            "epoch 38: train loss 1.366991\n",
            "epoch 39: train loss 1.673577 valid loss 1.632040\n",
            "epoch 40: train loss 1.760641\n",
            "epoch 41: train loss 1.658345\n",
            "epoch 42: train loss 1.593307\n",
            "epoch 43: train loss 1.470051\n",
            "epoch 44: train loss 1.812687\n",
            "epoch 45: train loss 1.640594\n",
            "epoch 46: train loss 1.674134\n",
            "epoch 47: train loss 1.333919\n",
            "epoch 48: train loss 1.583830\n",
            "epoch 49: train loss 1.629128 valid loss 1.414509\n",
            "epoch 50: train loss 1.351988\n",
            "epoch 51: train loss 1.670351\n",
            "epoch 52: train loss 1.557290\n",
            "epoch 53: train loss 1.622253\n",
            "epoch 54: train loss 1.424439\n",
            "epoch 55: train loss 1.520682\n",
            "epoch 56: train loss 1.589204\n",
            "epoch 57: train loss 1.360111\n",
            "epoch 58: train loss 1.603559\n",
            "epoch 59: train loss 1.379434 valid loss 1.507097\n",
            "epoch 60: train loss 1.209497\n",
            "epoch 61: train loss 1.385604\n",
            "epoch 62: train loss 1.627834\n",
            "epoch 63: train loss 1.271778\n",
            "epoch 64: train loss 1.497394\n",
            "epoch 65: train loss 1.581867\n",
            "epoch 66: train loss 1.471821\n",
            "epoch 67: train loss 1.531563\n",
            "epoch 68: train loss 1.527615\n",
            "epoch 69: train loss 1.444021 valid loss 1.601959\n",
            "epoch 70: train loss 1.624796\n",
            "epoch 71: train loss 1.595917\n",
            "epoch 72: train loss 1.607903\n",
            "epoch 73: train loss 1.564626\n",
            "epoch 74: train loss 1.505250\n",
            "epoch 75: train loss 1.313785\n",
            "epoch 76: train loss 1.309469\n",
            "epoch 77: train loss 1.457101\n",
            "epoch 78: train loss 1.769225\n",
            "epoch 79: train loss 1.438864 valid loss 1.485609\n",
            "epoch 80: train loss 1.449323\n",
            "epoch 81: train loss 1.357978\n",
            "epoch 82: train loss 1.432281\n",
            "epoch 83: train loss 1.351531\n",
            "epoch 84: train loss 1.584711\n",
            "epoch 85: train loss 1.483113\n",
            "epoch 86: train loss 1.657529\n",
            "epoch 87: train loss 1.362046\n",
            "epoch 88: train loss 1.533054\n",
            "epoch 89: train loss 1.371590 valid loss 1.448423\n",
            "epoch 90: train loss 1.639444\n",
            "epoch 91: train loss 1.456383\n",
            "epoch 92: train loss 1.307136\n",
            "epoch 93: train loss 1.707125\n",
            "epoch 94: train loss 1.553006\n",
            "epoch 95: train loss 1.495834\n",
            "epoch 96: train loss 1.246958\n",
            "epoch 97: train loss 1.538274\n",
            "epoch 98: train loss 1.548846\n",
            "epoch 99: train loss 1.342328 valid loss 1.388975\n",
            "epoch 100: train loss 1.425354\n",
            "epoch 101: train loss 1.300703\n",
            "epoch 102: train loss 1.610457\n",
            "epoch 103: train loss 1.567461\n",
            "epoch 104: train loss 1.476753\n",
            "epoch 105: train loss 1.483980\n",
            "epoch 106: train loss 1.295062\n",
            "epoch 107: train loss 1.190274\n",
            "epoch 108: train loss 1.373795\n",
            "epoch 109: train loss 1.711095 valid loss 1.359733\n",
            "epoch 110: train loss 1.450579\n",
            "epoch 111: train loss 1.420746\n",
            "epoch 112: train loss 1.415532\n",
            "epoch 113: train loss 1.198990\n",
            "epoch 114: train loss 1.224193\n",
            "epoch 115: train loss 1.474046\n",
            "epoch 116: train loss 1.111788\n",
            "epoch 117: train loss 1.277481\n",
            "epoch 118: train loss 1.194891\n",
            "epoch 119: train loss 1.200275 valid loss 1.647808\n",
            "epoch 120: train loss 1.358083\n",
            "epoch 121: train loss 1.388627\n",
            "epoch 122: train loss 1.532369\n",
            "epoch 123: train loss 1.451658\n",
            "epoch 124: train loss 1.415565\n",
            "epoch 125: train loss 1.665297\n",
            "epoch 126: train loss 1.394984\n",
            "epoch 127: train loss 1.681509\n",
            "epoch 128: train loss 1.461587\n",
            "epoch 129: train loss 1.417026 valid loss 1.377492\n",
            "epoch 130: train loss 1.289653\n",
            "epoch 131: train loss 1.289750\n",
            "epoch 132: train loss 1.431360\n",
            "epoch 133: train loss 1.210802\n",
            "epoch 134: train loss 1.465892\n",
            "epoch 135: train loss 1.291169\n",
            "epoch 136: train loss 1.116542\n",
            "epoch 137: train loss 1.521396\n",
            "epoch 138: train loss 1.483428\n",
            "epoch 139: train loss 1.246969 valid loss 1.410549\n",
            "epoch 140: train loss 1.231787\n",
            "epoch 141: train loss 1.463681\n",
            "epoch 142: train loss 1.134657\n",
            "epoch 143: train loss 1.446308\n",
            "epoch 144: train loss 1.549430\n",
            "epoch 145: train loss 1.140308\n",
            "epoch 146: train loss 1.254550\n",
            "epoch 147: train loss 1.321970\n",
            "epoch 148: train loss 1.403552\n",
            "epoch 149: train loss 1.239810 valid loss 1.505168\n"
          ]
        }
      ],
      "source": [
        "epochs = 150\n",
        "train_losses, valid_losses = [], []\n",
        "\n",
        "for epoch in tqdm(range(epochs)):\n",
        "\n",
        "    model.train()\n",
        "    train_loss = []\n",
        "    for i, (mixture, target) in enumerate(train_loader):\n",
        "\n",
        "        optimizer.zero_grad()\n",
        "        # magnitude, phase = torch.abs(mixture), torch.angle(mixture)\n",
        "        # outputs = model(magnitude) * torch.exp(1j * phase)\n",
        "        outputs = model(torch.abs(mixture))\n",
        "\n",
        "        loss = loss_fn(outputs, torch.abs(target))\n",
        "        loss.backward()\n",
        "        optimizer.step()\n",
        "        \n",
        "        train_loss.append(loss.item())\n",
        "    \n",
        "    train_loss = np.mean(train_loss)\n",
        "    train_losses.append(train_loss)\n",
        "\n",
        "    if epoch == 0 or (epoch + 1) % 10 == 0:\n",
        "        model.eval()\n",
        "        valid_loss = []\n",
        "        with torch.no_grad():\n",
        "            for i, (mixture, target) in enumerate(valid_loader):\n",
        "\n",
        "                outputs = model(torch.abs(mixture))\n",
        "\n",
        "                loss = loss_fn(outputs, torch.abs(target))\n",
        "                valid_loss.append(loss.item())\n",
        "\n",
        "        valid_loss = np.mean(valid_loss)\n",
        "        valid_losses.append(valid_loss)\n",
        "    \n",
        "    if epoch == 0 or (epoch + 1) % 10 == 0:\n",
        "        print(f'epoch {epoch}: train loss {train_loss:3f} valid loss {valid_loss:3f}')\n",
        "    else:\n",
        "        print(f'epoch {epoch}: train loss {train_loss:3f}')\n",
        "\n",
        "    if (epoch + 1) % 20 == 0:\n",
        "        model_path = os.path.join('../../models/mmdensenet', f'trained_model_epoch_{epoch+1}.pt')\n",
        "        torch.save(model.state_dict(), model_path)\n",
        "\n",
        "    del outputs, loss"
      ]
    },
    {
      "cell_type": "code",
      "execution_count": 7,
      "metadata": {},
      "outputs": [
        {
          "name": "stdout",
          "output_type": "stream",
          "text": [
            "Done, model saved at ../../models/mmdensenet/trained_model_epoch_150.pt\n"
          ]
        }
      ],
      "source": [
        "model_path = os.path.join('../../models/mmdensenet', f'trained_model_epoch_{epochs}.pt')\n",
        "torch.save(model.cpu().state_dict(), model_path)\n",
        "torch.save(model.get_config(), os.path.join('../../models/mmdensenet', f'model_config.pt'))\n",
        "print(f'Done, model saved at {model_path}')"
      ]
    },
    {
      "cell_type": "code",
      "execution_count": 8,
      "metadata": {
        "colab": {
          "base_uri": "https://localhost:8080/",
          "height": 297
        },
        "id": "7862wED93Hkx",
        "outputId": "4a836991-dd79-4293-cd59-a346fd02e0b5"
      },
      "outputs": [
        {
          "data": {
            "text/plain": [
              "<matplotlib.legend.Legend at 0x7f9e5b949970>"
            ]
          },
          "execution_count": 8,
          "metadata": {},
          "output_type": "execute_result"
        },
        {
          "data": {
            "image/png": "[encoded data removed]",
            "text/plain": [
              "<Figure size 640x480 with 1 Axes>"
            ]
          },
          "metadata": {},
          "output_type": "display_data"
        }
      ],
      "source": [
        "import matplotlib.pyplot as plt\n",
        "\n",
        "plt.plot(train_losses, label='Train')\n",
        "plt.plot([0,9,19,29,39,49,59,69,79,89,99,109,119,129,139,149], valid_losses, label='Validation')\n",
        "plt.xlabel('Epoch')\n",
        "plt.ylabel('Loss')\n",
        "plt.legend()"
      ]
    },
    {
      "cell_type": "code",
      "execution_count": 5,
      "metadata": {
        "id": "bvFQPrJ3nQS6"
      },
      "outputs": [
        {
          "data": {
            "text/plain": [
              "<All keys matched successfully>"
            ]
          },
          "execution_count": 5,
          "metadata": {},
          "output_type": "execute_result"
        }
      ],
      "source": [
        "model = MMDenseNet.build_model('../../models/mmdensenet/model_config.pt')\n",
        "model.load_state_dict(torch.load('../../models/mmdensenet/trained_model_epoch_150.pt'))"
      ]
    },
    {
      "cell_type": "code",
      "execution_count": 6,
      "metadata": {},
      "outputs": [
        {
          "data": {
            "application/vnd.jupyter.widget-view+json": {
              "model_id": "b29dd609f3824fac885f34b413649268",
              "version_major": 2,
              "version_minor": 0
            },
            "text/plain": [
              "0it [00:00, ?it/s]"
            ]
          },
          "metadata": {},
          "output_type": "display_data"
        },
        {
          "name": "stdout",
          "output_type": "stream",
          "text": [
            "0 ANiMAL - Rockshow\n",
            "2.641290475083546\n",
            "1 Actions - One Minute Smile\n",
            "2.9426740630512582\n",
            "2 Alexander Ross - Goodbye Bolero\n",
            "5.634995304055157\n",
            "3 Clara Berry And Wooldog - Waltz For My Victims\n",
            "3.4326357256995275\n",
            "4 Fergessen - Nos Palpitants\n",
            "10.052529142106088\n",
            "5 James May - On The Line\n",
            "7.692067335558537\n",
            "6 Johnny Lokke - Promises & Lies\n",
            "6.612074592844621\n",
            "7 Leaf - Summerghost\n",
            "4.23879242082261\n",
            "8 Meaxic - Take A Step\n",
            "4.139675447997511\n",
            "9 Patrick Talbot - A Reason To Leave\n",
            "7.603413408799355\n",
            "10 Skelpolu - Human Mistakes\n",
            "1.235989631255899\n",
            "11 Traffic Experiment - Sirens\n",
            "-0.055249779994320874\n",
            "12 Triviul - Angelsaint\n",
            "5.258396823391793\n",
            "13 Young Griffo - Pennies\n",
            "5.652547433782766\n",
            "4.791559430318167\n"
          ]
        }
      ],
      "source": [
        "import scipy.io.wavfile\n",
        "\n",
        "model.cuda()\n",
        "model.eval()\n",
        "sdrs = []\n",
        "preds, targets = [], []\n",
        "with torch.no_grad():\n",
        "    for i, track in tqdm(enumerate(mus_valid.tracks)):\n",
        "        print(i, track)\n",
        "        mixture_track, target_track, pred_track = [], [], []\n",
        "        for (mixture_audio, target_audio) in utils.slice_musdb_track_iterator(track, 60., sample_targets='vocals'):\n",
        "            mixture = transforms.stft(torch.tensor(mixture_audio[None], dtype=torch.float))\n",
        "            output = model(torch.abs(mixture)) * torch.exp(1j * torch.angle(mixture))\n",
        "            pred_audio = transforms.istft(output, device='cpu')[0]\n",
        "            pred_track.append(pred_audio)\n",
        "            mixture_track.append(torch.tensor(mixture_audio[:,:pred_audio.size(-1)], device='cpu'))\n",
        "            target_track.append(torch.tensor(target_audio[:,:pred_audio.size(-1)], device='cpu'))\n",
        "\n",
        "        mixture_track = torch.cat(mixture_track, dim=1).numpy().T\n",
        "        target_track = torch.cat(target_track, dim=1).numpy().T\n",
        "        pred_track = torch.cat(pred_track, dim=1).numpy().T\n",
        "\n",
        "        sdr, _, _, _ = museval.metrics.bss_eval_sources([target_track], [pred_track], compute_permutation=False)\n",
        "        print(sdr[0][0])\n",
        "        sdrs.append(sdr)\n",
        "\n",
        "print(np.mean(sdrs))"
      ]
    },
    {
      "cell_type": "code",
      "execution_count": 7,
      "metadata": {},
      "outputs": [
        {
          "name": "stdout",
          "output_type": "stream",
          "text": [
            "validation results\n",
            "mean: 4.791559430318167\n",
            "median: 4.748594622107202\n",
            "std: 2.6149981666651545\n"
          ]
        }
      ],
      "source": [
        "print(\"validation results\")\n",
        "print(\"mean:\", np.mean(sdrs))\n",
        "print(\"median:\", np.median(sdrs))\n",
        "print(\"std:\", np.std(sdrs))"
      ]
    },
    {
      "cell_type": "code",
      "execution_count": 8,
      "metadata": {},
      "outputs": [
        {
          "data": {
            "application/vnd.jupyter.widget-view+json": {
              "model_id": "7ca1e91e5b7c4f49a2d2402bbe119fb4",
              "version_major": 2,
              "version_minor": 0
            },
            "text/plain": [
              "  0%|          | 0/50 [00:00<?, ?it/s]"
            ]
          },
          "metadata": {},
          "output_type": "display_data"
        },
        {
          "name": "stdout",
          "output_type": "stream",
          "text": [
            "0 AM Contra - Heart Peripheral\n",
            "5.9343247756170285\n",
            "1 Al James - Schoolboy Facination\n",
            "3.585716372595609\n",
            "2 Angels In Amplifiers - I'm Alright\n",
            "5.802745947317101\n",
            "3 Arise - Run Run Run\n",
            "3.596823589882434\n",
            "4 BKS - Bulldozer\n",
            "2.4030183574736306\n",
            "5 BKS - Too Much\n",
            "7.2099806825396655\n",
            "6 Ben Carrigan - We'll Talk About It All Tonight\n",
            "1.729487199154522\n",
            "7 Bobby Nobody - Stitch Up\n",
            "4.3372499406222955\n",
            "8 Buitraker - Revo X\n",
            "0.1091239635858964\n",
            "9 Carlos Gonzalez - A Place For Us\n",
            "3.526174862664684\n",
            "10 Cristina Vane - So Easy\n",
            "5.6894920043460235\n",
            "11 Detsky Sad - Walkie Talkie\n",
            "2.0847919196408586\n",
            "12 Enda Reilly - Cur An Long Ag Seol\n",
            "6.981622697347035\n",
            "13 Forkupines - Semantics\n",
            "1.9955284036954668\n",
            "14 Georgia Wonder - Siren\n",
            "1.2830351537172366\n",
            "15 Girls Under Glass - We Feel Alright\n",
            "3.0075699442322943\n",
            "16 Hollow Ground - Ill Fate\n",
            "2.507682785883821\n",
            "17 James Elder & Mark M Thompson - The English Actor\n",
            "5.318457315599609\n",
            "18 Juliet's Rescue - Heartbeats\n",
            "4.953915924678537\n",
            "19 Little Chicago's Finest - My Own\n",
            "4.70613895329538\n",
            "20 Louis Cressy Band - Good Time\n",
            "3.5257145541224357\n",
            "21 Lyndsey Ollard - Catching Up\n",
            "11.692560766797849\n",
            "22 M.E.R.C. Music - Knockout\n",
            "5.568506664262509\n",
            "23 Moosmusic - Big Dummy Shake\n",
            "7.389475192298973\n",
            "24 Motor Tapes - Shore\n",
            "5.5344016458674705\n",
            "25 Mu - Too Bright\n",
            "3.787514732784426\n",
            "26 Nerve 9 - Pray For The Rain\n",
            "5.79060372473281\n",
            "27 PR - Happy Daze\n",
            "-16.823042595083557\n",
            "28 PR - Oh No\n",
            "-2.4326044985736046\n",
            "29 Punkdisco - Oral Hygiene\n",
            "2.602183504292822\n",
            "30 Raft Monk - Tiring\n",
            "0.29672532568772775\n",
            "31 Sambasevam Shanmugam - Kaathaadi\n",
            "7.399342876071014\n",
            "32 Secretariat - Borderline\n",
            "3.724706792901019\n",
            "33 Secretariat - Over The Top\n",
            "5.20294993217802\n",
            "34 Side Effects Project - Sing With Me\n",
            "7.942176292149361\n",
            "35 Signe Jakobsen - What Have You Done To Me\n",
            "6.818549909370172\n",
            "36 Skelpolu - Resurrection\n",
            "-11.288841259926905\n",
            "37 Speak Softly - Broken Man\n",
            "2.7724473870499984\n",
            "38 Speak Softly - Like Horses\n",
            "4.770938644805154\n",
            "39 The Doppler Shift - Atrophy\n",
            "6.2953746605342245\n",
            "40 The Easton Ellises (Baumi) - SDRNR\n",
            "4.400535901302712\n",
            "41 The Easton Ellises - Falcon 69\n",
            "1.9477166728263529\n",
            "42 The Long Wait - Dark Horses\n",
            "4.675783415870423\n",
            "43 The Mountaineering Club - Mallory\n",
            "7.743325012290305\n",
            "44 The Sunshine Garcia Band - For I Am The Moon\n",
            "8.231294850305702\n",
            "45 Timboz - Pony\n",
            "1.2793002381535292\n",
            "46 Tom McKenzie - Directions\n",
            "7.087921761156454\n",
            "47 Triviul feat. The Fiend - Widow\n",
            "5.270905403237503\n",
            "48 We Fell From The Sky - Not You\n",
            "1.282240311041822\n",
            "49 Zeno - Signs\n",
            "4.5209042074722845\n",
            "final sdr 3.6754498563973628\n"
          ]
        }
      ],
      "source": [
        "mus_test = musdb.DB(subsets=\"test\")\n",
        "\n",
        "model.cuda()\n",
        "model.eval()\n",
        "sdrs = []\n",
        "preds, targets = [], []\n",
        "with torch.no_grad():\n",
        "    for i in tqdm(range(len(mus_test.tracks))):\n",
        "        track = mus_test.tracks[i]\n",
        "        print(i, track)\n",
        "        mixture_track, target_track, pred_track = [], [], []\n",
        "        for (mixture_audio, target_audio) in utils.slice_musdb_track_iterator(track, 60., sample_targets='vocals'):\n",
        "            mixture = transforms.stft(torch.tensor(mixture_audio[None], dtype=torch.float))\n",
        "            output = model(torch.abs(mixture)) * torch.exp(1j * torch.angle(mixture))\n",
        "            pred_audio = transforms.istft(output, device='cpu')[0]\n",
        "            pred_track.append(pred_audio)\n",
        "            mixture_track.append(torch.tensor(mixture_audio[:,:pred_audio.size(-1)], device='cpu'))\n",
        "            target_track.append(torch.tensor(target_audio[:,:pred_audio.size(-1)], device='cpu'))\n",
        "\n",
        "        mixture_track = torch.cat(mixture_track, dim=1).numpy().T\n",
        "        target_track = torch.cat(target_track, dim=1).numpy().T\n",
        "        pred_track = torch.cat(pred_track, dim=1).numpy().T\n",
        "\n",
        "        sdr, _, _, _ = museval.metrics.bss_eval_sources([target_track], [pred_track], compute_permutation=False)\n",
        "        print(sdr[0][0])\n",
        "        sdrs.append(sdr[0][0])\n",
        "\n",
        "sdr = np.mean(sdrs)\n",
        "print('final sdr', sdr)"
      ]
    },
    {
      "cell_type": "code",
      "execution_count": 9,
      "metadata": {},
      "outputs": [
        {
          "name": "stdout",
          "output_type": "stream",
          "text": [
            "test results\n",
            "mean: 3.6754498563973628\n",
            "median: 4.460720054387498\n",
            "std: 4.424827905048307\n"
          ]
        }
      ],
      "source": [
        "print(\"test results\")\n",
        "print(\"mean:\", np.mean(sdrs))\n",
        "print(\"median:\", np.median(sdrs))\n",
        "print(\"std:\", np.std(sdrs))"
      ]
    }
  ],
  "metadata": {
    "accelerator": "GPU",
    "colab": {
      "collapsed_sections": [],
      "machine_shape": "hm",
      "provenance": []
    },
    "gpuClass": "premium",
    "kernelspec": {
      "display_name": "Python 3.9.13 ('pytorch')",
      "language": "python",
      "name": "python3"
    },
    "language_info": {
      "codemirror_mode": {
        "name": "ipython",
        "version": 3
      },
      "file_extension": ".py",
      "mimetype": "text/x-python",
      "name": "python",
      "nbconvert_exporter": "python",
      "pygments_lexer": "ipython3",
      "version": "3.9.13"
    },
    "vscode": {
      "interpreter": {
        "hash": "2d58e898dde0263bc564c6968b04150abacfd33eed9b19aaa8e45c040360e146"
      }
    }
  },
  "nbformat": 4,
  "nbformat_minor": 0
}
