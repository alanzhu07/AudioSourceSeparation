{
  "cells": [
    {
      "cell_type": "code",
      "execution_count": null,
      "metadata": {
        "colab": {
          "base_uri": "https://localhost:8080/"
        },
        "id": "aM6Ews_f0-d9",
        "outputId": "b1bbb04f-3de1-47e3-eb61-5b098718b8ff"
      },
      "outputs": [],
      "source": [
        "!pip3 install -r requirements.txt"
      ]
    },
    {
      "cell_type": "code",
      "execution_count": 1,
      "metadata": {
        "colab": {
          "base_uri": "https://localhost:8080/"
        },
        "id": "hPSDBrpC1lV5",
        "outputId": "ebd55b96-c3e0-4302-d05e-c3aba4f245d0"
      },
      "outputs": [],
      "source": [
        "import os\n",
        "# os.environ['MUSDB_PATH'] = '/root/MUSDB18/MUSDB18-7' # <- change to local dataset path\n",
        "\n",
        "import sys\n",
        "sys.path.append(os.path.abspath('../'))"
      ]
    },
    {
      "cell_type": "code",
      "execution_count": 2,
      "metadata": {
        "id": "LSrDq4Kv1xKp"
      },
      "outputs": [],
      "source": [
        "import musdb\n",
        "\n",
        "mus_train = musdb.DB(subsets=\"train\", split='train')\n",
        "mus_valid = musdb.DB(subsets=\"train\", split='valid')"
      ]
    },
    {
      "cell_type": "code",
      "execution_count": 3,
      "metadata": {
        "id": "utDESFyT19xd"
      },
      "outputs": [
        {
          "data": {
            "text/plain": [
              "1"
            ]
          },
          "execution_count": 3,
          "metadata": {},
          "output_type": "execute_result"
        }
      ],
      "source": [
        "import torch\n",
        "import torch.nn as nn\n",
        "from torch.utils.data import DataLoader\n",
        "import numpy as np\n",
        "from torchmetrics.functional import signal_distortion_ratio\n",
        "from torchinfo import summary\n",
        "import musdb\n",
        "import torch\n",
        "import transforms\n",
        "import utils\n",
        "from mmdensenet import MMDenseNet\n",
        "from datasets import STFTDataset, SamplingTrackDataset, FullTrackDataset\n",
        "from tqdm.notebook import tqdm\n",
        "\n",
        "torch.cuda.device_count()"
      ]
    },
    {
      "cell_type": "code",
      "execution_count": null,
      "metadata": {
        "colab": {
          "base_uri": "https://localhost:8080/"
        },
        "id": "QNwBInwY1_zn",
        "outputId": "13a82152-56b5-4295-f851-5473376488ab"
      },
      "outputs": [],
      "source": [
        "# ignore\n",
        "\n",
        "print('sampling tracks')\n",
        "rng = np.random.default_rng()\n",
        "train_size, valid_size = 80, 14\n",
        "sample_length_seconds = 5\n",
        "mixtures_train, targets_train = utils.sample_musdb_tracks(mus_train.tracks[:train_size], sample_length_seconds, sample_targets='vocals', rng=rng)\n",
        "mixtures_valid, targets_valid = utils.sample_musdb_tracks(mus_valid.tracks[:valid_size], sample_length_seconds, sample_targets='vocals', rng=rng)\n",
        "print('calculating stft')\n",
        "mixtures_stft, targets_stft = transforms.stft(torch.tensor(mixtures_train, dtype=torch.float)), transforms.stft(torch.tensor(targets_train, dtype=torch.float))\n",
        "mixtures_stft_valid, targets_stft_valid = transforms.stft(torch.tensor(mixtures_valid, dtype=torch.float)), transforms.stft(torch.tensor(targets_valid, dtype=torch.float))\n"
      ]
    },
    {
      "cell_type": "code",
      "execution_count": 6,
      "metadata": {
        "id": "0X6JqZNf2cyl"
      },
      "outputs": [],
      "source": [
        "# ignore\n",
        "\n",
        "batch_size = 8\n",
        "valid_batch_size = 16\n",
        "\n",
        "training_data = STFTDataset(mixtures_stft, targets_stft)\n",
        "train_loader = DataLoader(training_data, batch_size=batch_size, shuffle=True)\n",
        "\n",
        "valid_data = STFTDataset(mixtures_stft_valid, targets_stft_valid)\n",
        "valid_loader = DataLoader(valid_data, batch_size=valid_batch_size)"
      ]
    },
    {
      "cell_type": "code",
      "execution_count": 4,
      "metadata": {},
      "outputs": [],
      "source": [
        "seed = 42\n",
        "\n",
        "torch.manual_seed(seed)\n",
        "rng = np.random.default_rng(seed)\n",
        "\n",
        "train_size, valid_size = 80, 14\n",
        "sample_length_seconds = 5\n",
        "batch_size = 8\n",
        "valid_batch_size = 32\n",
        "\n",
        "training_data = SamplingTrackDataset(mus_train.tracks[:train_size], seconds=sample_length_seconds, target='vocals', rng=rng)\n",
        "train_loader = DataLoader(training_data, batch_size=batch_size, shuffle=True)\n",
        "\n",
        "valid_data = FullTrackDataset(mus_valid.tracks[:valid_size], seconds=sample_length_seconds, target='vocals')\n",
        "valid_loader = DataLoader(valid_data, batch_size=valid_batch_size)"
      ]
    },
    {
      "cell_type": "code",
      "execution_count": 5,
      "metadata": {
        "colab": {
          "base_uri": "https://localhost:8080/"
        },
        "id": "3sIXvMh5-2Un",
        "outputId": "9c89598a-9563-413b-bedb-dec0807c1bbc"
      },
      "outputs": [
        {
          "data": {
            "text/plain": [
              "==========================================================================================\n",
              "Layer (type:depth-idx)                                            Param #\n",
              "==========================================================================================\n",
              "MMDenseNet                                                        --\n",
              "├─BandSplit: 1-1                                                  --\n",
              "├─ModuleDict: 1-2                                                 --\n",
              "│    └─MDenseNetBackbone: 2-1                                     --\n",
              "│    │    └─Conv2d: 3-1                                           608\n",
              "│    │    └─Encoder: 3-2                                          22,544\n",
              "│    │    └─DenseBlock: 3-3                                       5,520\n",
              "│    │    └─Decoder: 3-4                                          26,010\n",
              "│    └─MDenseNetBackbone: 2-2                                     --\n",
              "│    │    └─Conv2d: 3-5                                           608\n",
              "│    │    └─Encoder: 3-6                                          22,544\n",
              "│    │    └─DenseBlock: 3-7                                       5,520\n",
              "│    │    └─Decoder: 3-8                                          26,010\n",
              "│    └─MDenseNetBackbone: 2-3                                     --\n",
              "│    │    └─Conv2d: 3-9                                           608\n",
              "│    │    └─Encoder: 3-10                                         22,544\n",
              "│    │    └─DenseBlock: 3-11                                      5,520\n",
              "│    │    └─Decoder: 3-12                                         26,010\n",
              "│    └─MDenseNetBackbone: 2-4                                     --\n",
              "│    │    └─Conv2d: 3-13                                          608\n",
              "│    │    └─Encoder: 3-14                                         22,544\n",
              "│    │    └─DenseBlock: 3-15                                      5,520\n",
              "│    │    └─Decoder: 3-16                                         26,010\n",
              "├─ReLU: 1-3                                                       --\n",
              "├─DenseBlock: 1-4                                                 --\n",
              "│    └─Sequential: 2-5                                            --\n",
              "│    │    └─ConvBlock2d: 3-17                                     1,488\n",
              "│    │    └─ConvBlock2d: 3-18                                     156\n",
              "├─BatchNorm2d: 1-5                                                8\n",
              "├─Conv2d: 1-6                                                     10\n",
              "==========================================================================================\n",
              "Total params: 220,390\n",
              "Trainable params: 220,390\n",
              "Non-trainable params: 0\n",
              "=========================================================================================="
            ]
          },
          "execution_count": 5,
          "metadata": {},
          "output_type": "execute_result"
        }
      ],
      "source": [
        "in_channels, num_features = 2, 32\n",
        "\n",
        "# growth_rate = [12,12,12,12,12,12,12]\n",
        "growth_rate = [10,10,10,10,10,10,10]\n",
        "kernel_size = 3\n",
        "\n",
        "dilated = [True] * len(growth_rate)\n",
        "norm = [True] * len(growth_rate)\n",
        "nonlinear = [True] * len(growth_rate)\n",
        "# depth = [4,4,4,4,4,4,4]\n",
        "depth = [3,3,3,3,3,3,3]\n",
        "\n",
        "growth_rate_final=4\n",
        "kernel_size_final=3\n",
        "depth_final=2\n",
        "dilated_final=True\n",
        "norm_final=True\n",
        "nonlinear_final=True\n",
        "\n",
        "model = MMDenseNet(in_channels, num_features, growth_rate, kernel_size, dilated=dilated, norm=norm, nonlinear=nonlinear, depth=depth,\n",
        "    growth_rate_final=growth_rate_final, kernel_size_final=kernel_size_final, depth_final=depth_final,\n",
        "    dilated_final=dilated_final, norm_final=norm_final, nonlinear_final=nonlinear_final)\n",
        "model.cuda()\n",
        "\n",
        "loss_fn = nn.MSELoss()\n",
        "optimizer = torch.optim.Adam(model.parameters(), lr=1e-3)\n",
        "\n",
        "summary(model)\n"
      ]
    },
    {
      "cell_type": "code",
      "execution_count": 6,
      "metadata": {
        "colab": {
          "base_uri": "https://localhost:8080/"
        },
        "id": "b_1wn_ZH2yUd",
        "outputId": "9f77d1d6-fd1b-4346-bb36-b0c438b8665c"
      },
      "outputs": [
        {
          "data": {
            "application/vnd.jupyter.widget-view+json": {
              "model_id": "5dd67c2a79ae45eeb6764479f50a465c",
              "version_major": 2,
              "version_minor": 0
            },
            "text/plain": [
              "  0%|          | 0/20 [00:00<?, ?it/s]"
            ]
          },
          "metadata": {},
          "output_type": "display_data"
        },
        {
          "name": "stdout",
          "output_type": "stream",
          "text": [
            "epoch 0: train loss 5.671012 valid loss 4.325205\n",
            "epoch 1: train loss 3.659329\n",
            "epoch 2: train loss 3.001242\n",
            "epoch 3: train loss 3.231349\n",
            "epoch 4: train loss 3.300422\n",
            "epoch 5: train loss 2.607857\n",
            "epoch 6: train loss 2.706742\n",
            "epoch 7: train loss 2.469310\n",
            "epoch 8: train loss 2.450968\n",
            "epoch 9: train loss 2.126208\n",
            "epoch 10: train loss 2.054403 valid loss 2.472343\n",
            "epoch 11: train loss 2.166622\n",
            "epoch 12: train loss 2.460190\n",
            "epoch 13: train loss 1.973647\n",
            "epoch 14: train loss 1.835513\n",
            "epoch 15: train loss 1.910956\n",
            "epoch 16: train loss 2.058679\n",
            "epoch 17: train loss 1.867963\n",
            "epoch 18: train loss 1.807653\n",
            "epoch 19: train loss 2.259195\n"
          ]
        }
      ],
      "source": [
        "epochs = 20\n",
        "train_losses, valid_losses = [], []\n",
        "\n",
        "for epoch in tqdm(range(epochs)):\n",
        "\n",
        "    model.train()\n",
        "    train_loss = []\n",
        "    for i, (mixture, target) in enumerate(train_loader):\n",
        "\n",
        "        optimizer.zero_grad()\n",
        "        # magnitude, phase = torch.abs(mixture), torch.angle(mixture)\n",
        "        # outputs = model(magnitude) * torch.exp(1j * phase)\n",
        "        outputs = model(torch.abs(mixture))\n",
        "\n",
        "        loss = loss_fn(outputs, torch.abs(target))\n",
        "        loss.backward()\n",
        "        optimizer.step()\n",
        "        \n",
        "        train_loss.append(loss.item())\n",
        "    \n",
        "    train_loss = np.mean(train_loss)\n",
        "    train_losses.append(train_loss)\n",
        "\n",
        "    if (epoch + 1) % 10 == 0:\n",
        "        model.eval()\n",
        "        valid_loss = []\n",
        "        with torch.no_grad():\n",
        "            for i, (mixture, target) in enumerate(valid_loader):\n",
        "\n",
        "                outputs = model(torch.abs(mixture))\n",
        "\n",
        "                loss = loss_fn(outputs, torch.abs(target))\n",
        "                valid_loss.append(loss.item())\n",
        "\n",
        "        valid_loss = np.mean(valid_loss)\n",
        "        valid_losses.append(valid_loss)\n",
        "    \n",
        "    if (epoch + 1) % 10 == 0:\n",
        "        print(f'epoch {epoch}: train loss {train_loss:3f} valid loss {valid_loss:3f}')\n",
        "    else:\n",
        "        print(f'epoch {epoch}: train loss {train_loss:3f}')"
      ]
    },
    {
      "cell_type": "code",
      "execution_count": 7,
      "metadata": {},
      "outputs": [
        {
          "name": "stdout",
          "output_type": "stream",
          "text": [
            "Done, model saved at ../models/mmdensenet/trained_model_epoch_20.pt\n"
          ]
        }
      ],
      "source": [
        "model_path = os.path.join('../models/mmdensenet', f'trained_model_epoch_{epochs}.pt')\n",
        "torch.save(model.cpu().state_dict(), model_path)\n",
        "print(f'Done, model saved at {model_path}')"
      ]
    },
    {
      "cell_type": "code",
      "execution_count": 8,
      "metadata": {
        "colab": {
          "base_uri": "https://localhost:8080/",
          "height": 297
        },
        "id": "7862wED93Hkx",
        "outputId": "4a836991-dd79-4293-cd59-a346fd02e0b5"
      },
      "outputs": [
        {
          "data": {
            "text/plain": [
              "<matplotlib.legend.Legend at 0x7f3d63a84ca0>"
            ]
          },
          "execution_count": 8,
          "metadata": {},
          "output_type": "execute_result"
        },
        {
          "data": {
            "image/png": "[encoded data removed]",
            "text/plain": [
              "<Figure size 640x480 with 1 Axes>"
            ]
          },
          "metadata": {},
          "output_type": "display_data"
        }
      ],
      "source": [
        "import matplotlib.pyplot as plt\n",
        "\n",
        "plt.plot(train_losses, label='Train')\n",
        "plt.plot([0,10], valid_losses, label='Validation')\n",
        "plt.xlabel('Epoch')\n",
        "plt.ylabel('Loss')\n",
        "plt.legend()"
      ]
    },
    {
      "cell_type": "code",
      "execution_count": 11,
      "metadata": {
        "id": "NK7pgRuXmZ9D"
      },
      "outputs": [],
      "source": [
        "torch.save(model.get_config(), os.path.join('../models/mmdensenet', f'model_config.pt'))"
      ]
    },
    {
      "cell_type": "code",
      "execution_count": 3,
      "metadata": {
        "id": "bvFQPrJ3nQS6"
      },
      "outputs": [
        {
          "data": {
            "text/plain": [
              "<All keys matched successfully>"
            ]
          },
          "execution_count": 3,
          "metadata": {},
          "output_type": "execute_result"
        }
      ],
      "source": [
        "model = MMDenseNet.build_model('../models/mmdensenet/model_config.pt')\n",
        "model.load_state_dict(torch.load('../models/mmdensenet/trained_model_epoch_10.pt'))"
      ]
    },
    {
      "cell_type": "code",
      "execution_count": 10,
      "metadata": {},
      "outputs": [
        {
          "name": "stdout",
          "output_type": "stream",
          "text": [
            "0 ANiMAL - Rockshow\n",
            "[-0.9230669 -0.6693079]\n",
            "1 Actions - One Minute Smile\n",
            "[1.8638134 2.4617224]\n",
            "2 Alexander Ross - Goodbye Bolero\n",
            "[-2.1724102 -2.087444 ]\n",
            "3 Clara Berry And Wooldog - Waltz For My Victims\n",
            "[-5.280318  -5.2121058]\n",
            "4 Fergessen - Nos Palpitants\n",
            "[3.205886  3.3006291]\n",
            "5 James May - On The Line\n",
            "[1.2303247 1.3099474]\n",
            "6 Johnny Lokke - Promises & Lies\n",
            "[0.72835374 0.8444147 ]\n",
            "7 Leaf - Summerghost\n",
            "[0.56762934 1.1522046 ]\n",
            "8 Meaxic - Take A Step\n",
            "[-0.31342083 -0.07327354]\n",
            "9 Patrick Talbot - A Reason To Leave\n",
            "[-0.51063395 -0.40788388]\n",
            "10 Skelpolu - Human Mistakes\n",
            "[-4.5277357 -4.468459 ]\n",
            "11 Traffic Experiment - Sirens\n",
            "[-4.301281  -4.0633593]\n",
            "12 Triviul - Angelsaint\n",
            "[1.2722014 1.2984596]\n",
            "13 Young Griffo - Pennies\n",
            "[-0.12702633  0.04195193]\n"
          ]
        },
        {
          "data": {
            "text/plain": [
              "-0.5664353"
            ]
          },
          "execution_count": 10,
          "metadata": {},
          "output_type": "execute_result"
        }
      ],
      "source": [
        "import scipy.io.wavfile\n",
        "\n",
        "model.cuda()\n",
        "sdrs = []\n",
        "with torch.no_grad():\n",
        "    for i, track in enumerate(mus_valid.tracks):\n",
        "        print(i, track)\n",
        "        mixture_track, target_track, pred_track = [], [], []\n",
        "        for (mixture_audio, target_audio) in utils.slice_musdb_track_iterator(track, 10., sample_targets='vocals'):\n",
        "            mixture = transforms.stft(torch.tensor(mixture_audio[None], dtype=torch.float))\n",
        "            output = model(torch.abs(mixture)) * torch.exp(1j * torch.angle(mixture))\n",
        "            pred_audio = transforms.istft(output)[0]\n",
        "            pred_track.append(pred_audio)\n",
        "            mixture_track.append(torch.tensor(mixture_audio[:,:pred_audio.size(-1)]).cuda())\n",
        "            target_track.append(torch.tensor(target_audio[:,:pred_audio.size(-1)]).cuda())\n",
        "        mixture_track = torch.cat(mixture_track, dim=1)\n",
        "        target_track = torch.cat(target_track, dim=1)\n",
        "        pred_track = torch.cat(pred_track, dim=1)\n",
        "        sdr = signal_distortion_ratio(\n",
        "            pred_track,\n",
        "            target_track).cpu().numpy().flatten()\n",
        "        sdrs.append(sdr)\n",
        "        print(sdr)\n",
        "\n",
        "        # scipy.io.wavfile.write(f'../audio_output/preds/{i}.wav', 44100, pred_track.cpu().numpy().T)\n",
        "        # scipy.io.wavfile.write(f'../audio_output/mixtures/{i}.wav', 44100, mixture_track.cpu().numpy().T)\n",
        "        # scipy.io.wavfile.write(f'../audio_output/targets/{i}.wav', 44100, target_track.cpu().numpy().T)\n",
        "\n",
        "        # del pred_track, mixture_track, target_track\n",
        "\n",
        "np.array(sdrs).mean()"
      ]
    }
  ],
  "metadata": {
    "accelerator": "GPU",
    "colab": {
      "collapsed_sections": [],
      "machine_shape": "hm",
      "provenance": []
    },
    "gpuClass": "premium",
    "kernelspec": {
      "display_name": "Python 3.9.13 ('pytorch')",
      "language": "python",
      "name": "python3"
    },
    "language_info": {
      "codemirror_mode": {
        "name": "ipython",
        "version": 3
      },
      "file_extension": ".py",
      "mimetype": "text/x-python",
      "name": "python",
      "nbconvert_exporter": "python",
      "pygments_lexer": "ipython3",
      "version": "3.9.13"
    },
    "vscode": {
      "interpreter": {
        "hash": "2d58e898dde0263bc564c6968b04150abacfd33eed9b19aaa8e45c040360e146"
      }
    }
  },
  "nbformat": 4,
  "nbformat_minor": 0
}
