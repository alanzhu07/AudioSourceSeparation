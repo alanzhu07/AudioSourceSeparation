{
  "cells": [
    {
      "cell_type": "code",
      "execution_count": null,
      "metadata": {
        "colab": {
          "base_uri": "https://localhost:8080/"
        },
        "id": "aM6Ews_f0-d9",
        "outputId": "b1bbb04f-3de1-47e3-eb61-5b098718b8ff"
      },
      "outputs": [],
      "source": [
        "!pip3 install -r requirements.txt"
      ]
    },
    {
      "cell_type": "code",
      "execution_count": 52,
      "metadata": {
        "colab": {
          "base_uri": "https://localhost:8080/"
        },
        "id": "hPSDBrpC1lV5",
        "outputId": "ebd55b96-c3e0-4302-d05e-c3aba4f245d0"
      },
      "outputs": [],
      "source": [
        "import os\n",
        "# os.environ['MUSDB_PATH'] = '/root/MUSDB18/MUSDB18-7' # <- change to local dataset path\n",
        "\n",
        "import sys\n",
        "sys.path.append(os.path.abspath('../'))"
      ]
    },
    {
      "cell_type": "code",
      "execution_count": 53,
      "metadata": {
        "id": "LSrDq4Kv1xKp"
      },
      "outputs": [],
      "source": [
        "import musdb\n",
        "\n",
        "mus_train = musdb.DB(subsets=\"train\", split='train')\n",
        "mus_valid = musdb.DB(subsets=\"train\", split='valid')"
      ]
    },
    {
      "cell_type": "code",
      "execution_count": 54,
      "metadata": {
        "id": "utDESFyT19xd"
      },
      "outputs": [
        {
          "data": {
            "text/plain": [
              "1"
            ]
          },
          "execution_count": 54,
          "metadata": {},
          "output_type": "execute_result"
        }
      ],
      "source": [
        "import torch\n",
        "import torch.nn as nn\n",
        "from torch.utils.data import DataLoader\n",
        "import numpy as np\n",
        "from torchmetrics.functional import signal_distortion_ratio\n",
        "from torchinfo import summary\n",
        "import musdb\n",
        "import torch\n",
        "import transforms\n",
        "import utils\n",
        "from mdensenet import MDenseNet\n",
        "\n",
        "import tqdm\n",
        "torch.cuda.device_count()"
      ]
    },
    {
      "cell_type": "code",
      "execution_count": 55,
      "metadata": {
        "colab": {
          "base_uri": "https://localhost:8080/"
        },
        "id": "QNwBInwY1_zn",
        "outputId": "13a82152-56b5-4295-f851-5473376488ab"
      },
      "outputs": [
        {
          "name": "stdout",
          "output_type": "stream",
          "text": [
            "sampling tracks\n",
            "calculating stft\n"
          ]
        }
      ],
      "source": [
        "print('sampling tracks')\n",
        "rng = np.random.default_rng()\n",
        "train_size, valid_size = 80, 14\n",
        "sample_length_seconds = 5\n",
        "mixtures_train, targets_train = utils.sample_musdb_tracks(mus_train.tracks[:train_size], sample_length_seconds, sample_targets='vocals', rng=rng)\n",
        "mixtures_valid, targets_valid = utils.sample_musdb_tracks(mus_valid.tracks[:valid_size], sample_length_seconds, sample_targets='vocals', rng=rng)\n",
        "print('calculating stft')\n",
        "mixtures_stft, targets_stft = transforms.stft(torch.tensor(mixtures_train, dtype=torch.float)), transforms.stft(torch.tensor(targets_train, dtype=torch.float))\n",
        "mixtures_stft_valid, targets_stft_valid = transforms.stft(torch.tensor(mixtures_valid, dtype=torch.float)), transforms.stft(torch.tensor(targets_valid, dtype=torch.float))\n"
      ]
    },
    {
      "cell_type": "code",
      "execution_count": 56,
      "metadata": {
        "id": "VoH_q3V92aHL"
      },
      "outputs": [],
      "source": [
        "class STFTDataset(torch.utils.data.Dataset):\n",
        "    def __init__(self, mixture_stft, target_stft):\n",
        "        self.mixture_stft = mixture_stft\n",
        "        self.target_stft = target_stft\n",
        "\n",
        "    def __len__(self):\n",
        "        return len(self.mixture_stft)\n",
        "\n",
        "    def __getitem__(self, idx):\n",
        "        return self.mixture_stft[idx], self.target_stft[idx]"
      ]
    },
    {
      "cell_type": "code",
      "execution_count": 57,
      "metadata": {
        "id": "0X6JqZNf2cyl"
      },
      "outputs": [],
      "source": [
        "batch_size = 8\n",
        "valid_batch_size = 16\n",
        "\n",
        "training_data = STFTDataset(mixtures_stft, targets_stft)\n",
        "train_loader = DataLoader(training_data, batch_size=batch_size, shuffle=True)\n",
        "\n",
        "valid_data = STFTDataset(mixtures_stft_valid, targets_stft_valid)\n",
        "valid_loader = DataLoader(valid_data, batch_size=valid_batch_size)"
      ]
    },
    {
      "cell_type": "code",
      "execution_count": 58,
      "metadata": {
        "colab": {
          "base_uri": "https://localhost:8080/"
        },
        "id": "3sIXvMh5-2Un",
        "outputId": "9c89598a-9563-413b-bedb-dec0807c1bbc"
      },
      "outputs": [
        {
          "data": {
            "text/plain": [
              "=====================================================================================\n",
              "Layer (type:depth-idx)                                       Param #\n",
              "=====================================================================================\n",
              "MDenseNet                                                    --\n",
              "├─MDenseNetBackbone: 1-1                                     --\n",
              "│    └─Conv2d: 2-1                                           608\n",
              "│    └─Encoder: 2-2                                          --\n",
              "│    │    └─Sequential: 3-1                                  48,208\n",
              "│    └─DenseBlock: 2-3                                       --\n",
              "│    │    └─Sequential: 3-2                                  13,176\n",
              "│    └─Decoder: 2-4                                          --\n",
              "│    │    └─Sequential: 3-3                                  56,988\n",
              "├─ReLU: 1-2                                                  --\n",
              "├─DenseBlock: 1-3                                            --\n",
              "│    └─Sequential: 2-5                                       --\n",
              "│    │    └─ConvBlock2d: 3-4                                 896\n",
              "│    │    └─ConvBlock2d: 3-5                                 156\n",
              "├─BatchNorm2d: 1-4                                           8\n",
              "├─Conv2d: 1-5                                                10\n",
              "=====================================================================================\n",
              "Total params: 120,050\n",
              "Trainable params: 120,050\n",
              "Non-trainable params: 0\n",
              "====================================================================================="
            ]
          },
          "execution_count": 58,
          "metadata": {},
          "output_type": "execute_result"
        }
      ],
      "source": [
        "in_channels, num_features = 2, 32\n",
        "\n",
        "growth_rate = [12,12,12,12,12,12,12]\n",
        "kernel_size = 3\n",
        "\n",
        "dilated = [True] * len(growth_rate)\n",
        "norm = [True] * len(growth_rate)\n",
        "nonlinear = [True] * len(growth_rate)\n",
        "depth = [4,4,4,4,4,4,4]\n",
        "\n",
        "growth_rate_final=4\n",
        "kernel_size_final=3\n",
        "depth_final=2\n",
        "max_bin=2049\n",
        "dilated_final=True\n",
        "norm_final=True\n",
        "nonlinear_final=True\n",
        "\n",
        "model = MDenseNet(in_channels, num_features, growth_rate, kernel_size, dilated=dilated, norm=norm, nonlinear=nonlinear, depth=depth,\n",
        "    growth_rate_final=growth_rate_final, kernel_size_final=kernel_size_final, depth_final=depth_final,\n",
        "    dilated_final=dilated_final, norm_final=norm_final, nonlinear_final=nonlinear_final,\n",
        "    max_bin=max_bin)\n",
        "model.cuda()\n",
        "\n",
        "loss_fn = nn.MSELoss()\n",
        "optimizer = torch.optim.Adam(model.parameters(), lr=1e-3)\n",
        "\n",
        "summary(model)\n"
      ]
    },
    {
      "cell_type": "code",
      "execution_count": 59,
      "metadata": {
        "colab": {
          "base_uri": "https://localhost:8080/"
        },
        "id": "b_1wn_ZH2yUd",
        "outputId": "9f77d1d6-fd1b-4346-bb36-b0c438b8665c"
      },
      "outputs": [
        {
          "name": "stderr",
          "output_type": "stream",
          "text": [
            " 10%|█         | 1/10 [00:11<01:45, 11.71s/it]"
          ]
        },
        {
          "name": "stdout",
          "output_type": "stream",
          "text": [
            "epoch 0: train loss 5.458902 valid loss 3.880842\n"
          ]
        },
        {
          "name": "stderr",
          "output_type": "stream",
          "text": [
            " 20%|██        | 2/10 [00:23<01:33, 11.68s/it]"
          ]
        },
        {
          "name": "stdout",
          "output_type": "stream",
          "text": [
            "epoch 1: train loss 4.797487 valid loss 3.377688\n"
          ]
        },
        {
          "name": "stderr",
          "output_type": "stream",
          "text": [
            " 30%|███       | 3/10 [00:35<01:21, 11.66s/it]"
          ]
        },
        {
          "name": "stdout",
          "output_type": "stream",
          "text": [
            "epoch 2: train loss 4.509888 valid loss 2.815324\n"
          ]
        },
        {
          "name": "stderr",
          "output_type": "stream",
          "text": [
            " 40%|████      | 4/10 [00:46<01:09, 11.64s/it]"
          ]
        },
        {
          "name": "stdout",
          "output_type": "stream",
          "text": [
            "epoch 3: train loss 4.288503 valid loss 2.789905\n"
          ]
        },
        {
          "name": "stderr",
          "output_type": "stream",
          "text": [
            " 50%|█████     | 5/10 [00:58<00:58, 11.63s/it]"
          ]
        },
        {
          "name": "stdout",
          "output_type": "stream",
          "text": [
            "epoch 4: train loss 4.062422 valid loss 2.386231\n"
          ]
        },
        {
          "name": "stderr",
          "output_type": "stream",
          "text": [
            " 60%|██████    | 6/10 [01:09<00:46, 11.62s/it]"
          ]
        },
        {
          "name": "stdout",
          "output_type": "stream",
          "text": [
            "epoch 5: train loss 3.952276 valid loss 2.718709\n"
          ]
        },
        {
          "name": "stderr",
          "output_type": "stream",
          "text": [
            " 70%|███████   | 7/10 [01:21<00:34, 11.61s/it]"
          ]
        },
        {
          "name": "stdout",
          "output_type": "stream",
          "text": [
            "epoch 6: train loss 3.730111 valid loss 2.624918\n"
          ]
        },
        {
          "name": "stderr",
          "output_type": "stream",
          "text": [
            " 80%|████████  | 8/10 [01:33<00:23, 11.61s/it]"
          ]
        },
        {
          "name": "stdout",
          "output_type": "stream",
          "text": [
            "epoch 7: train loss 3.573430 valid loss 2.348395\n"
          ]
        },
        {
          "name": "stderr",
          "output_type": "stream",
          "text": [
            " 90%|█████████ | 9/10 [01:44<00:11, 11.61s/it]"
          ]
        },
        {
          "name": "stdout",
          "output_type": "stream",
          "text": [
            "epoch 8: train loss 3.381926 valid loss 2.212503\n"
          ]
        },
        {
          "name": "stderr",
          "output_type": "stream",
          "text": [
            "100%|██████████| 10/10 [01:56<00:00, 11.62s/it]"
          ]
        },
        {
          "name": "stdout",
          "output_type": "stream",
          "text": [
            "epoch 9: train loss 3.195724 valid loss 2.273990\n",
            "Done, model saved at trained_model_epoch_10.pt\n"
          ]
        },
        {
          "name": "stderr",
          "output_type": "stream",
          "text": [
            "\n"
          ]
        }
      ],
      "source": [
        "epochs = 10\n",
        "train_losses, valid_losses = [], []\n",
        "\n",
        "for epoch in tqdm.tqdm(range(epochs)):\n",
        "\n",
        "    model.train()\n",
        "    train_loss = 0.\n",
        "    for i, (mixture, target) in enumerate(train_loader):\n",
        "\n",
        "        optimizer.zero_grad()\n",
        "        # magnitude, phase = torch.abs(mixture), torch.angle(mixture)\n",
        "        # outputs = model(magnitude) * torch.exp(1j * phase)\n",
        "        outputs = model(torch.abs(mixture))\n",
        "\n",
        "        loss = loss_fn(outputs, torch.abs(target))\n",
        "        loss.backward()\n",
        "        optimizer.step()\n",
        "        \n",
        "        train_loss += loss.item()\n",
        "\n",
        "\n",
        "    model.eval()\n",
        "    valid_loss = 0.\n",
        "    with torch.no_grad():\n",
        "      for i, (mixture, target) in enumerate(valid_loader):\n",
        "        outputs = model(torch.abs(mixture))\n",
        "\n",
        "        loss = loss_fn(outputs, torch.abs(target))\n",
        "        valid_loss += loss.item()\n",
        "\n",
        "    train_loss = train_loss / len(train_loader)\n",
        "    valid_loss = valid_loss / len(valid_loader)\n",
        "    train_losses.append(train_loss)\n",
        "    valid_losses.append(valid_loss)\n",
        "    \n",
        "    print(f'epoch {epoch}: train loss {train_loss:3f} valid loss {valid_loss:3f}')\n",
        "\n",
        "model_path = f'trained_model_epoch_{epochs}.pt'\n",
        "torch.save(model.cpu().state_dict(), model_path)\n",
        "print(f'Done, model saved at {model_path}')"
      ]
    },
    {
      "cell_type": "code",
      "execution_count": 67,
      "metadata": {
        "colab": {
          "base_uri": "https://localhost:8080/",
          "height": 297
        },
        "id": "7862wED93Hkx",
        "outputId": "4a836991-dd79-4293-cd59-a346fd02e0b5"
      },
      "outputs": [
        {
          "data": {
            "text/plain": [
              "<matplotlib.legend.Legend at 0x7f0442e28910>"
            ]
          },
          "execution_count": 67,
          "metadata": {},
          "output_type": "execute_result"
        },
        {
          "data": {
            "image/png": "[encoded data removed]",
            "text/plain": [
              "<Figure size 640x480 with 1 Axes>"
            ]
          },
          "metadata": {},
          "output_type": "display_data"
        }
      ],
      "source": [
        "import matplotlib.pyplot as plt\n",
        "\n",
        "plt.plot(train_losses, label='Train')\n",
        "plt.plot(valid_losses, label='Validation')\n",
        "plt.xlabel('Epoch')\n",
        "plt.ylabel('Loss')\n",
        "plt.legend()"
      ]
    },
    {
      "cell_type": "code",
      "execution_count": 61,
      "metadata": {
        "id": "NK7pgRuXmZ9D"
      },
      "outputs": [],
      "source": [
        "torch.save(model.get_config(), 'model_config.pt')"
      ]
    },
    {
      "cell_type": "code",
      "execution_count": 62,
      "metadata": {
        "id": "bvFQPrJ3nQS6"
      },
      "outputs": [],
      "source": [
        "# model_2 = MDenseNet.build_model('model_config.pt')\n",
        "# model_2.load_state_dict(torch.load('trained_model_epoch_100.pt'))"
      ]
    },
    {
      "cell_type": "code",
      "execution_count": 63,
      "metadata": {
        "colab": {
          "base_uri": "https://localhost:8080/"
        },
        "id": "9bZoKycITp4U",
        "outputId": "028eaf06-35ff-43fe-eb6e-0168dea445dd"
      },
      "outputs": [
        {
          "name": "stdout",
          "output_type": "stream",
          "text": [
            "final sdr: -inf\n"
          ]
        }
      ],
      "source": [
        "sdrs = []\n",
        "model.cuda()\n",
        "preds, mixtures, targets = [], [], []\n",
        "with torch.no_grad():\n",
        "      for i, (mixture, target) in enumerate(valid_loader):\n",
        "        magnitude, phase = torch.abs(mixture), torch.angle(mixture)\n",
        "        outputs = model(magnitude) * torch.exp(1j * phase)\n",
        "        pred_valid = transforms.istft(outputs)\n",
        "        mixture_valid = transforms.istft(mixture)\n",
        "        target_valid = transforms.istft(target)\n",
        "        preds.append(pred_valid)\n",
        "        mixtures.append(mixture_valid)\n",
        "        targets.append(target_valid)\n",
        "        sdr = signal_distortion_ratio(\n",
        "            pred_valid,\n",
        "            target_valid, load_diag=1e-12).cpu().numpy().flatten()\n",
        "        sdrs.append(sdr)\n",
        "\n",
        "preds = torch.cat(preds).cpu().numpy()\n",
        "mixtures = torch.cat(mixtures).cpu().numpy()\n",
        "targets = torch.cat(targets).cpu().numpy()\n",
        "final_sdr = np.concatenate(sdrs).mean()\n",
        "print(f'final sdr: {final_sdr}')"
      ]
    },
    {
      "cell_type": "code",
      "execution_count": null,
      "metadata": {
        "colab": {
          "base_uri": "https://localhost:8080/",
          "height": 75
        },
        "id": "Hyfs-Klq6xOX",
        "outputId": "d71b6d0e-4650-4212-aefc-25bbb04f0d34"
      },
      "outputs": [],
      "source": [
        "import IPython.display as ipd\n",
        "ipd.Audio(preds[-1], rate=44100)"
      ]
    },
    {
      "cell_type": "code",
      "execution_count": null,
      "metadata": {
        "colab": {
          "base_uri": "https://localhost:8080/",
          "height": 75
        },
        "id": "Jr54pS1wQCIe",
        "outputId": "9ea27617-0eff-4ddb-ece6-1357ebf36ddd"
      },
      "outputs": [],
      "source": [
        "ipd.Audio(mixtures[-1], rate=44100)"
      ]
    },
    {
      "cell_type": "code",
      "execution_count": null,
      "metadata": {
        "colab": {
          "base_uri": "https://localhost:8080/",
          "height": 75
        },
        "id": "OeAvjS2V7CaO",
        "outputId": "6720d288-f26b-46d3-c6ce-32ad0b3f8b81"
      },
      "outputs": [],
      "source": [
        "ipd.Audio(targets[-1], rate=44100)"
      ]
    },
    {
      "cell_type": "code",
      "execution_count": 116,
      "metadata": {
        "colab": {
          "base_uri": "https://localhost:8080/"
        },
        "id": "OFKx0N9jqZpz",
        "outputId": "4a4cbb6a-8bb2-4add-b5a3-49363b3eb80c"
      },
      "outputs": [
        {
          "name": "stderr",
          "output_type": "stream",
          "text": [
            "100%|██████████| 14/14 [00:00<00:00, 63.66it/s]\n"
          ]
        }
      ],
      "source": [
        "import scipy.io.wavfile\n",
        "\n",
        "for i in tqdm.tqdm(range(len(preds))):\n",
        "  scipy.io.wavfile.write(f'sample_output/preds/{i}.wav', 44100, preds[i].T)\n",
        "  scipy.io.wavfile.write(f'sample_output/mixtures/{i}.wav', 44100, mixtures[i].T)\n",
        "  scipy.io.wavfile.write(f'sample_output/targets/{i}.wav', 44100, targets[i].T)\n"
      ]
    },
    {
      "cell_type": "code",
      "execution_count": 68,
      "metadata": {},
      "outputs": [],
      "source": [
        "del preds, mixtures, targets"
      ]
    },
    {
      "cell_type": "code",
      "execution_count": null,
      "metadata": {
        "id": "F51ZEpiRrZ76"
      },
      "outputs": [],
      "source": [
        "!zip -r sample_output.zip sample_output"
      ]
    }
  ],
  "metadata": {
    "accelerator": "GPU",
    "colab": {
      "collapsed_sections": [],
      "machine_shape": "hm",
      "provenance": []
    },
    "gpuClass": "premium",
    "kernelspec": {
      "display_name": "Python 3.9.13 ('pytorch')",
      "language": "python",
      "name": "python3"
    },
    "language_info": {
      "codemirror_mode": {
        "name": "ipython",
        "version": 3
      },
      "file_extension": ".py",
      "mimetype": "text/x-python",
      "name": "python",
      "nbconvert_exporter": "python",
      "pygments_lexer": "ipython3",
      "version": "3.9.13"
    },
    "vscode": {
      "interpreter": {
        "hash": "2d58e898dde0263bc564c6968b04150abacfd33eed9b19aaa8e45c040360e146"
      }
    }
  },
  "nbformat": 4,
  "nbformat_minor": 0
}
